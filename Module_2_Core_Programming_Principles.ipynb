{
 "cells": [
  {
   "attachments": {},
   "cell_type": "markdown",
   "metadata": {
    "colab_type": "text",
    "id": "view-in-github"
   },
   "source": [
    "<a href=\"https://colab.research.google.com/github/Zurezh/Python_LearnByDoing/blob/master/Module_2_Core_Programming_Principles.ipynb\" target=\"_parent\"><img src=\"https://colab.research.google.com/assets/colab-badge.svg\" alt=\"Open In Colab\"/></a>"
   ]
  },
  {
   "attachments": {},
   "cell_type": "markdown",
   "metadata": {
    "colab_type": "text",
    "id": "8-54BoH10Hc5"
   },
   "source": [
    "# Module 2 - Core Programming Principles\n",
    "\n",
    "1. Types of Variables\n",
    "2. Using Variables\n",
    "3. Boolean Variables and Operators\n",
    "4. The While Loop\n",
    "5. The For Loop\n",
    "6. The IF Statement\n",
    "7. Exercise"
   ]
  },
  {
   "attachments": {},
   "cell_type": "markdown",
   "metadata": {
    "colab_type": "text",
    "id": "JSnui02hcXa-"
   },
   "source": [
    "## 1. Types of Variables"
   ]
  },
  {
   "cell_type": "code",
   "execution_count": null,
   "metadata": {
    "colab": {},
    "colab_type": "code",
    "id": "hefT_fbDcZTX"
   },
   "outputs": [],
   "source": [
    "# Integer\n",
    "x = 2"
   ]
  },
  {
   "cell_type": "code",
   "execution_count": null,
   "metadata": {
    "colab": {
     "base_uri": "https://localhost:8080/",
     "height": 34
    },
    "colab_type": "code",
    "id": "-LMyY-AYcdIs",
    "outputId": "cd1c6f8f-60cc-4810-8ebe-ef8c4d95c9c1"
   },
   "outputs": [],
   "source": [
    "x"
   ]
  },
  {
   "cell_type": "code",
   "execution_count": null,
   "metadata": {
    "colab": {
     "base_uri": "https://localhost:8080/",
     "height": 34
    },
    "colab_type": "code",
    "id": "K9hmkFITciuE",
    "outputId": "cd560ea8-8600-4ad6-fbeb-843a26bef361"
   },
   "outputs": [],
   "source": [
    "type(x)"
   ]
  },
  {
   "attachments": {},
   "cell_type": "markdown",
   "metadata": {
    "colab_type": "text",
    "id": "ckVDafH0cs29"
   },
   "source": [
    "---"
   ]
  },
  {
   "cell_type": "code",
   "execution_count": null,
   "metadata": {
    "colab": {},
    "colab_type": "code",
    "id": "b_1UXO2ecoQp"
   },
   "outputs": [],
   "source": [
    "#float / double\n",
    "y = 2.5"
   ]
  },
  {
   "cell_type": "code",
   "execution_count": null,
   "metadata": {
    "colab": {
     "base_uri": "https://localhost:8080/",
     "height": 34
    },
    "colab_type": "code",
    "id": "ffl1T8vRcwsh",
    "outputId": "008339f3-a2ab-47b7-9dab-3e509011c5a5"
   },
   "outputs": [],
   "source": [
    "y"
   ]
  },
  {
   "cell_type": "code",
   "execution_count": null,
   "metadata": {
    "colab": {
     "base_uri": "https://localhost:8080/",
     "height": 34
    },
    "colab_type": "code",
    "id": "Ja_bkQqCcxN1",
    "outputId": "11ea18ba-3faa-464e-9b65-6d7d55b7a81f"
   },
   "outputs": [],
   "source": [
    "type(y)"
   ]
  },
  {
   "attachments": {},
   "cell_type": "markdown",
   "metadata": {
    "colab_type": "text",
    "id": "NUlLIC0GczNA"
   },
   "source": [
    "---"
   ]
  },
  {
   "cell_type": "code",
   "execution_count": null,
   "metadata": {
    "colab": {},
    "colab_type": "code",
    "id": "vZggPbEwc1SW"
   },
   "outputs": [],
   "source": [
    "#string\n",
    "a = 'Hello'"
   ]
  },
  {
   "cell_type": "code",
   "execution_count": null,
   "metadata": {
    "colab": {
     "base_uri": "https://localhost:8080/",
     "height": 34
    },
    "colab_type": "code",
    "id": "TNtG2qvsdB9t",
    "outputId": "c38719f2-f6e4-480d-e422-a3d12bf55477"
   },
   "outputs": [],
   "source": [
    "a"
   ]
  },
  {
   "cell_type": "code",
   "execution_count": null,
   "metadata": {
    "colab": {
     "base_uri": "https://localhost:8080/",
     "height": 34
    },
    "colab_type": "code",
    "id": "AazzDeG6dCT2",
    "outputId": "cf33dcda-114c-4859-a914-87af61485eeb"
   },
   "outputs": [],
   "source": [
    "type(a)"
   ]
  },
  {
   "attachments": {},
   "cell_type": "markdown",
   "metadata": {
    "colab_type": "text",
    "id": "w0rm4TCvdGWR"
   },
   "source": [
    "---"
   ]
  },
  {
   "cell_type": "code",
   "execution_count": null,
   "metadata": {
    "colab": {},
    "colab_type": "code",
    "id": "V9LzN0JBdHVT"
   },
   "outputs": [],
   "source": [
    "#logical\n",
    "q1 = True"
   ]
  },
  {
   "cell_type": "code",
   "execution_count": null,
   "metadata": {
    "colab": {
     "base_uri": "https://localhost:8080/",
     "height": 34
    },
    "colab_type": "code",
    "id": "BOjZ_EZ8dSXc",
    "outputId": "ef61ea19-2509-46a2-8567-d8700ffb29ae"
   },
   "outputs": [],
   "source": [
    "q1"
   ]
  },
  {
   "cell_type": "code",
   "execution_count": null,
   "metadata": {
    "colab": {
     "base_uri": "https://localhost:8080/",
     "height": 34
    },
    "colab_type": "code",
    "id": "M3jceIxrdTGn",
    "outputId": "57a36ec3-197d-4c37-b790-ee71d73cb728"
   },
   "outputs": [],
   "source": [
    "type(q1)"
   ]
  },
  {
   "attachments": {},
   "cell_type": "markdown",
   "metadata": {
    "colab_type": "text",
    "id": "kEzmhP8mdWzd"
   },
   "source": [
    "---"
   ]
  },
  {
   "attachments": {},
   "cell_type": "markdown",
   "metadata": {
    "colab_type": "text",
    "id": "Bykzz0MCeOJP"
   },
   "source": [
    "## 2. Using Variables"
   ]
  },
  {
   "cell_type": "code",
   "execution_count": null,
   "metadata": {
    "colab": {},
    "colab_type": "code",
    "id": "oP4Wp2D1eP5_"
   },
   "outputs": [],
   "source": [
    "A = 10"
   ]
  },
  {
   "cell_type": "code",
   "execution_count": null,
   "metadata": {
    "colab": {},
    "colab_type": "code",
    "id": "luAcImJFeWXc"
   },
   "outputs": [],
   "source": [
    "B = 5"
   ]
  },
  {
   "cell_type": "code",
   "execution_count": null,
   "metadata": {
    "colab": {},
    "colab_type": "code",
    "id": "lT2okT0heXZB"
   },
   "outputs": [],
   "source": [
    "# Arithmetics"
   ]
  },
  {
   "cell_type": "code",
   "execution_count": null,
   "metadata": {
    "colab": {},
    "colab_type": "code",
    "id": "a1n5ORxDeZwN"
   },
   "outputs": [],
   "source": [
    "C = A + B"
   ]
  },
  {
   "cell_type": "code",
   "execution_count": null,
   "metadata": {
    "colab": {},
    "colab_type": "code",
    "id": "YwTF509Qeaqv"
   },
   "outputs": [],
   "source": [
    "D = B / A"
   ]
  },
  {
   "attachments": {},
   "cell_type": "markdown",
   "metadata": {
    "colab_type": "text",
    "id": "I8Ri0Zajefxs"
   },
   "source": [
    "---"
   ]
  },
  {
   "cell_type": "code",
   "execution_count": null,
   "metadata": {
    "colab": {
     "base_uri": "https://localhost:8080/",
     "height": 34
    },
    "colab_type": "code",
    "id": "SOj-eup_ew29",
    "outputId": "dc8e44e6-29d5-46f6-ef6f-fe39023d45c6"
   },
   "outputs": [],
   "source": [
    "# Printing\n",
    "C \n",
    "D # This line overrides the above line C"
   ]
  },
  {
   "cell_type": "code",
   "execution_count": null,
   "metadata": {
    "colab": {
     "base_uri": "https://localhost:8080/",
     "height": 51
    },
    "colab_type": "code",
    "id": "I5BayTNPebg7",
    "outputId": "7e8621be-febd-4027-8209-8678c1127a0d"
   },
   "outputs": [],
   "source": [
    "# Printing\n",
    "print(C)\n",
    "print(D)"
   ]
  },
  {
   "attachments": {},
   "cell_type": "markdown",
   "metadata": {
    "colab_type": "text",
    "id": "4BTZwhXbe7Lj"
   },
   "source": [
    "---"
   ]
  },
  {
   "cell_type": "code",
   "execution_count": null,
   "metadata": {
    "colab": {
     "base_uri": "https://localhost:8080/",
     "height": 34
    },
    "colab_type": "code",
    "id": "vrLZqGfve6Gd",
    "outputId": "f411adff-72b7-45a7-8461-b67d38aaaa35"
   },
   "outputs": [],
   "source": [
    "import math\n",
    "math.sqrt(A)"
   ]
  },
  {
   "cell_type": "code",
   "execution_count": null,
   "metadata": {
    "colab": {
     "base_uri": "https://localhost:8080/",
     "height": 34
    },
    "colab_type": "code",
    "id": "hYxWTtqTeknA",
    "outputId": "df487ea5-4cbd-4570-e89d-6c43cccc0a6a"
   },
   "outputs": [],
   "source": [
    "round(math.sqrt(A))"
   ]
  },
  {
   "attachments": {},
   "cell_type": "markdown",
   "metadata": {
    "colab_type": "text",
    "id": "yvhAHvGqfJF2"
   },
   "source": [
    "---"
   ]
  },
  {
   "cell_type": "code",
   "execution_count": null,
   "metadata": {
    "colab": {},
    "colab_type": "code",
    "id": "ODshtoGHfFvj"
   },
   "outputs": [],
   "source": [
    "greeting = \"hello\"\n",
    "name = \"Suresh\""
   ]
  },
  {
   "cell_type": "code",
   "execution_count": null,
   "metadata": {
    "colab": {},
    "colab_type": "code",
    "id": "GioN8eqBfMx9"
   },
   "outputs": [],
   "source": [
    "message = greeting + \" \" + name"
   ]
  },
  {
   "cell_type": "code",
   "execution_count": null,
   "metadata": {
    "colab": {
     "base_uri": "https://localhost:8080/",
     "height": 34
    },
    "colab_type": "code",
    "id": "ujHjqimkfPgm",
    "outputId": "3afdae5e-cc8b-44aa-bfb8-f5f346de89c2"
   },
   "outputs": [],
   "source": [
    "print(message)"
   ]
  },
  {
   "attachments": {},
   "cell_type": "markdown",
   "metadata": {
    "colab_type": "text",
    "id": "giBj_BhjfS4S"
   },
   "source": [
    "---"
   ]
  },
  {
   "attachments": {},
   "cell_type": "markdown",
   "metadata": {
    "colab_type": "text",
    "id": "vgVxIe-CfgD_"
   },
   "source": [
    "## 3. Boolean Variables and Operators"
   ]
  },
  {
   "cell_type": "code",
   "execution_count": null,
   "metadata": {
    "colab": {},
    "colab_type": "code",
    "id": "eEM8W5-Nfjox"
   },
   "outputs": [],
   "source": [
    "#Boolean / Logical\n",
    "#True\n",
    "#False"
   ]
  },
  {
   "cell_type": "code",
   "execution_count": null,
   "metadata": {
    "colab": {
     "base_uri": "https://localhost:8080/",
     "height": 34
    },
    "colab_type": "code",
    "id": "SvTYvHCAfrvb",
    "outputId": "d5020f5a-0878-4c57-adcb-644eb0b00ec8"
   },
   "outputs": [],
   "source": [
    "4<5"
   ]
  },
  {
   "cell_type": "code",
   "execution_count": null,
   "metadata": {
    "colab": {
     "base_uri": "https://localhost:8080/",
     "height": 34
    },
    "colab_type": "code",
    "id": "jw2g7P3Vfsl_",
    "outputId": "b8d267b3-eccf-4376-b993-27dd31de8910"
   },
   "outputs": [],
   "source": [
    "10>100"
   ]
  },
  {
   "cell_type": "code",
   "execution_count": null,
   "metadata": {
    "colab": {
     "base_uri": "https://localhost:8080/",
     "height": 34
    },
    "colab_type": "code",
    "id": "V_milR96fts9",
    "outputId": "2c1cd43a-45ba-4571-ee9e-b2ff5fec425c"
   },
   "outputs": [],
   "source": [
    "4 == 5"
   ]
  },
  {
   "attachments": {},
   "cell_type": "markdown",
   "metadata": {
    "colab_type": "text",
    "id": "f_-Q9rcjfxph"
   },
   "source": [
    "---"
   ]
  },
  {
   "cell_type": "code",
   "execution_count": null,
   "metadata": {
    "colab": {},
    "colab_type": "code",
    "id": "C6FHZBPyfvdd"
   },
   "outputs": [],
   "source": [
    "# ==\n",
    "# != <>\n",
    "# <\n",
    "# >\n",
    "# <=\n",
    "# >=\n",
    "# and\n",
    "# or\n",
    "# not"
   ]
  },
  {
   "attachments": {},
   "cell_type": "markdown",
   "metadata": {
    "colab_type": "text",
    "id": "5CRv4SMBf-NQ"
   },
   "source": [
    "---"
   ]
  },
  {
   "cell_type": "code",
   "execution_count": null,
   "metadata": {
    "colab": {},
    "colab_type": "code",
    "id": "sbBjkp8Lf773"
   },
   "outputs": [],
   "source": [
    "result = 4 < 5"
   ]
  },
  {
   "cell_type": "code",
   "execution_count": null,
   "metadata": {
    "colab": {
     "base_uri": "https://localhost:8080/",
     "height": 34
    },
    "colab_type": "code",
    "id": "bmGLplAzgAYG",
    "outputId": "f2630530-b5a2-4788-e710-938b2e047608"
   },
   "outputs": [],
   "source": [
    "result"
   ]
  },
  {
   "cell_type": "code",
   "execution_count": null,
   "metadata": {
    "colab": {
     "base_uri": "https://localhost:8080/",
     "height": 34
    },
    "colab_type": "code",
    "id": "Mp28zWuCgBLv",
    "outputId": "9477a206-3f2c-4b1e-ffcb-3dac30acf442"
   },
   "outputs": [],
   "source": [
    "type(result)"
   ]
  },
  {
   "attachments": {},
   "cell_type": "markdown",
   "metadata": {
    "colab_type": "text",
    "id": "TuqnROxbgE2k"
   },
   "source": [
    "---"
   ]
  },
  {
   "cell_type": "code",
   "execution_count": null,
   "metadata": {
    "colab": {},
    "colab_type": "code",
    "id": "JkX_2q2tgDZP"
   },
   "outputs": [],
   "source": [
    "result2 = not(5 > 1)"
   ]
  },
  {
   "cell_type": "code",
   "execution_count": null,
   "metadata": {
    "colab": {
     "base_uri": "https://localhost:8080/",
     "height": 34
    },
    "colab_type": "code",
    "id": "1jbBjmWwgJII",
    "outputId": "80917b84-55c6-47f8-ea70-bd046a1e4b71"
   },
   "outputs": [],
   "source": [
    "result2"
   ]
  },
  {
   "cell_type": "code",
   "execution_count": null,
   "metadata": {
    "colab": {
     "base_uri": "https://localhost:8080/",
     "height": 34
    },
    "colab_type": "code",
    "id": "vvT9auOBgJ9m",
    "outputId": "ac123bc0-80f2-4398-bcae-b23b1089c53b"
   },
   "outputs": [],
   "source": [
    "type(result2)"
   ]
  },
  {
   "attachments": {},
   "cell_type": "markdown",
   "metadata": {
    "colab_type": "text",
    "id": "EM-u6UYqgMjt"
   },
   "source": [
    "---"
   ]
  },
  {
   "cell_type": "code",
   "execution_count": null,
   "metadata": {
    "colab": {
     "base_uri": "https://localhost:8080/",
     "height": 34
    },
    "colab_type": "code",
    "id": "IHoM7qD5gK7Z",
    "outputId": "cb045bd8-90a6-4378-ec60-0e54113761ed"
   },
   "outputs": [],
   "source": [
    "result or result2"
   ]
  },
  {
   "cell_type": "code",
   "execution_count": null,
   "metadata": {
    "colab": {
     "base_uri": "https://localhost:8080/",
     "height": 34
    },
    "colab_type": "code",
    "id": "HPu1PhBggRM8",
    "outputId": "2ce174a3-b580-4d71-cb9e-92eec44cc034"
   },
   "outputs": [],
   "source": [
    "result and result2"
   ]
  },
  {
   "cell_type": "code",
   "execution_count": null,
   "metadata": {
    "colab": {},
    "colab_type": "code",
    "id": "Foo-DCRZgT3R"
   },
   "outputs": [],
   "source": []
  },
  {
   "attachments": {},
   "cell_type": "markdown",
   "metadata": {
    "colab_type": "text",
    "id": "HHwOlIQQgjnP"
   },
   "source": [
    "## 4. The While Loop"
   ]
  },
  {
   "cell_type": "code",
   "execution_count": null,
   "metadata": {
    "colab": {
     "base_uri": "https://localhost:8080/",
     "height": 204
    },
    "colab_type": "code",
    "id": "GLF7-Fa5glWB",
    "outputId": "7e4dea75-05c4-4a12-e791-28a8a1a95611"
   },
   "outputs": [],
   "source": [
    "counter = 0\n",
    "while counter < 10:\n",
    "  print(counter)\n",
    "  counter = counter + 1\n",
    "print('Done')"
   ]
  },
  {
   "attachments": {},
   "cell_type": "markdown",
   "metadata": {
    "colab_type": "text",
    "id": "d_QLCDzRhH6j"
   },
   "source": [
    "## 5. The For Loop"
   ]
  },
  {
   "cell_type": "code",
   "execution_count": null,
   "metadata": {
    "colab": {
     "base_uri": "https://localhost:8080/",
     "height": 102
    },
    "colab_type": "code",
    "id": "BncStWo1g8QV",
    "outputId": "41a607d7-714b-4596-cb84-0f810621f155"
   },
   "outputs": [],
   "source": [
    "for i in range(5):\n",
    "  print(\"hello python\")"
   ]
  },
  {
   "attachments": {},
   "cell_type": "markdown",
   "metadata": {
    "colab_type": "text",
    "id": "nJUJIY2dhZtL"
   },
   "source": [
    "---"
   ]
  },
  {
   "cell_type": "code",
   "execution_count": null,
   "metadata": {
    "colab": {
     "base_uri": "https://localhost:8080/",
     "height": 34
    },
    "colab_type": "code",
    "id": "Rmp4cl9DhQX3",
    "outputId": "c1cf7d39-76b3-4928-8386-2137aa666856"
   },
   "outputs": [],
   "source": [
    "range(5)"
   ]
  },
  {
   "cell_type": "code",
   "execution_count": null,
   "metadata": {
    "colab": {
     "base_uri": "https://localhost:8080/",
     "height": 34
    },
    "colab_type": "code",
    "id": "GZVbOsnchSAs",
    "outputId": "09cf15be-6f92-4bf2-fbcd-98aaa8bd7bf7"
   },
   "outputs": [],
   "source": [
    "list(range(5))"
   ]
  },
  {
   "attachments": {},
   "cell_type": "markdown",
   "metadata": {
    "colab_type": "text",
    "id": "F6hxTNjchfnd"
   },
   "source": [
    "---"
   ]
  },
  {
   "cell_type": "code",
   "execution_count": null,
   "metadata": {
    "colab": {
     "base_uri": "https://localhost:8080/",
     "height": 102
    },
    "colab_type": "code",
    "id": "P4Syh6v5hTZn",
    "outputId": "b4849acf-79a0-48d1-f1af-ae524baaf2c6"
   },
   "outputs": [],
   "source": [
    "for i in range(5):\n",
    "  print('Hello python: ',i)"
   ]
  },
  {
   "attachments": {},
   "cell_type": "markdown",
   "metadata": {
    "colab_type": "text",
    "id": "9Gk38P5nhm_7"
   },
   "source": [
    "---"
   ]
  },
  {
   "cell_type": "code",
   "execution_count": null,
   "metadata": {
    "colab": {},
    "colab_type": "code",
    "id": "ldjpc9YAhkUR"
   },
   "outputs": [],
   "source": [
    "# Another way\n",
    "mylist = [10,100,1000]"
   ]
  },
  {
   "cell_type": "code",
   "execution_count": null,
   "metadata": {
    "colab": {
     "base_uri": "https://localhost:8080/",
     "height": 34
    },
    "colab_type": "code",
    "id": "neyS3uRAhwFL",
    "outputId": "facad110-79eb-4a24-fca6-ee21ece88308"
   },
   "outputs": [],
   "source": [
    "mylist"
   ]
  },
  {
   "cell_type": "code",
   "execution_count": null,
   "metadata": {
    "colab": {
     "base_uri": "https://localhost:8080/",
     "height": 68
    },
    "colab_type": "code",
    "id": "J-Xn2SS8hwwB",
    "outputId": "11aec579-ad4f-4f82-be16-ff5351c06f51"
   },
   "outputs": [],
   "source": [
    "for j in mylist:\n",
    "  print(\"j is equal to : \",j)"
   ]
  },
  {
   "attachments": {},
   "cell_type": "markdown",
   "metadata": {
    "colab_type": "text",
    "id": "S2QXv2yyh-P-"
   },
   "source": [
    "## 6. The IF Statement"
   ]
  },
  {
   "cell_type": "code",
   "execution_count": null,
   "metadata": {
    "colab": {},
    "colab_type": "code",
    "id": "5YO8jL-Ph4HG"
   },
   "outputs": [],
   "source": [
    "#---- -2 ---- -1 ---- 0 ---- 1 ---- 2 ----"
   ]
  },
  {
   "cell_type": "code",
   "execution_count": null,
   "metadata": {
    "colab": {},
    "colab_type": "code",
    "id": "rfEKsOUMiH8D"
   },
   "outputs": [],
   "source": [
    "import numpy as np\n",
    "from numpy.random import randn"
   ]
  },
  {
   "cell_type": "code",
   "execution_count": null,
   "metadata": {
    "colab": {
     "base_uri": "https://localhost:8080/",
     "height": 34
    },
    "colab_type": "code",
    "id": "Q8W8lp_MiM_9",
    "outputId": "4e6854bb-afc9-4a2a-b4f1-69ee481921ec"
   },
   "outputs": [],
   "source": [
    "randn()"
   ]
  },
  {
   "attachments": {},
   "cell_type": "markdown",
   "metadata": {
    "colab_type": "text",
    "id": "IQp9Ll5biai8"
   },
   "source": [
    "---"
   ]
  },
  {
   "cell_type": "code",
   "execution_count": null,
   "metadata": {
    "colab": {
     "base_uri": "https://localhost:8080/",
     "height": 51
    },
    "colab_type": "code",
    "id": "vLbNJRuYiSbb",
    "outputId": "f878a7ac-4f0e-4f58-d340-93cc349b301a"
   },
   "outputs": [],
   "source": [
    "#---- -2 ---- -1 ---- 0 ---- 1 ---- 2 ----\n",
    "answer = None\n",
    "x = randn()\n",
    "if x > 1:\n",
    "  answer = \"Greater than 1\"\n",
    "else:\n",
    "  answer = \"Less than 1\"\n",
    "print(x)\n",
    "print(answer)"
   ]
  },
  {
   "attachments": {},
   "cell_type": "markdown",
   "metadata": {
    "colab_type": "text",
    "id": "MNAOJTIejJ8R"
   },
   "source": [
    "---"
   ]
  },
  {
   "cell_type": "code",
   "execution_count": null,
   "metadata": {
    "colab": {
     "base_uri": "https://localhost:8080/",
     "height": 51
    },
    "colab_type": "code",
    "id": "IQX6g_EYimeP",
    "outputId": "bfb73c28-12d6-445e-f890-83a7e9e82d41"
   },
   "outputs": [],
   "source": [
    "#---- -2 ---- -1 ---- 0 ---- 1 ---- 2 ----\n",
    "# Nested Statement\n",
    "answer = None\n",
    "x = randn()\n",
    "if x > 1:\n",
    "  answer = \"Greater than 1\"\n",
    "else:\n",
    "  if x >= -1:\n",
    "    answer = \"Between -1 and 1\"\n",
    "  else:\n",
    "    answer = \"Less than -1\"\n",
    "print(x)\n",
    "print(answer)"
   ]
  },
  {
   "attachments": {},
   "cell_type": "markdown",
   "metadata": {
    "colab_type": "text",
    "id": "gnat7AGEjm65"
   },
   "source": [
    "---"
   ]
  },
  {
   "cell_type": "code",
   "execution_count": null,
   "metadata": {
    "colab": {
     "base_uri": "https://localhost:8080/",
     "height": 51
    },
    "colab_type": "code",
    "id": "AGpWCFPVjpJS",
    "outputId": "22be8f17-c5fa-4c79-9533-09286d370ca6"
   },
   "outputs": [],
   "source": [
    "#---- -2 ---- -1 ---- 0 ---- 1 ---- 2 ----\n",
    "# Chained Statement\n",
    "answer = None\n",
    "x = randn()\n",
    "if x > 1:\n",
    "  answer = \"Greater than 1\"\n",
    "elif x >= -1:\n",
    "  answer = \"Between -1 and 1\"\n",
    "else:\n",
    "  answer = \"Less than -1\"\n",
    "print(x)\n",
    "print(answer)"
   ]
  },
  {
   "attachments": {},
   "cell_type": "markdown",
   "metadata": {
    "colab_type": "text",
    "id": "ygbXr4Bk4Xfy"
   },
   "source": [
    "## 7. Excercise - Law of Large Numbers"
   ]
  },
  {
   "attachments": {},
   "cell_type": "markdown",
   "metadata": {
    "colab_type": "text",
    "id": "Ve-0yCGd4iH7"
   },
   "source": [
    "## Exercise Question\n",
    "\n",
    "Test the Law of Large Numbers for N random normally distributed numbers with mean = 0, stdev = 1:\n",
    "\n",
    "Create a Python script that will count how many of these numbers fall between -1 and 1 and dividde by the total quantity of N\n",
    "\n",
    "You know the E(X) = 68.2%\n",
    "\n",
    "Check the Mean (Xn) -> E(X) as you rerun your script while increasing N"
   ]
  },
  {
   "attachments": {},
   "cell_type": "markdown",
   "metadata": {
    "colab_type": "text",
    "id": "Exqre8L94knT"
   },
   "source": [
    "## Excercise Solution"
   ]
  },
  {
   "cell_type": "code",
   "execution_count": null,
   "metadata": {
    "colab": {
     "base_uri": "https://localhost:8080/",
     "height": 34
    },
    "colab_type": "code",
    "id": "B6ror8rW4fYa",
    "outputId": "6f98f64f-57eb-415b-c395-8e079f2727f1"
   },
   "outputs": [],
   "source": [
    "import numpy as np\n",
    "from numpy.random import randn\n",
    "\n",
    "N = 100000 # Try to values: 100, 1000, 10000, 100000, 1000000\n",
    "counter = 0\n",
    "for i in randn(N):\n",
    "  if i>-1 and i<1:\n",
    "    counter = counter + 1\n",
    "counter/N"
   ]
  },
  {
   "attachments": {},
   "cell_type": "markdown",
   "metadata": {
    "colab": {},
    "colab_type": "code",
    "id": "0RYzWIHg4sTu"
   },
   "source": [
    "### End of Module 2 - Core Programming Principles"
   ]
  }
 ],
 "metadata": {
  "colab": {
   "include_colab_link": true,
   "name": "Module 2 Core Programming  Principles.ipynb",
   "provenance": []
  },
  "kernelspec": {
   "display_name": "Python 3",
   "language": "python",
   "name": "python3"
  },
  "language_info": {
   "codemirror_mode": {
    "name": "ipython",
    "version": 3
   },
   "file_extension": ".py",
   "mimetype": "text/x-python",
   "name": "python",
   "nbconvert_exporter": "python",
   "pygments_lexer": "ipython3",
   "version": "3.9.6"
  }
 },
 "nbformat": 4,
 "nbformat_minor": 1
}
