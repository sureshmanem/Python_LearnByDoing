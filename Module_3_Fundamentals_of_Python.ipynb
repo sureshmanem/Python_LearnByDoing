{
 "cells": [
  {
   "attachments": {},
   "cell_type": "markdown",
   "metadata": {
    "colab_type": "text",
    "id": "view-in-github"
   },
   "source": [
    "<a href=\"https://colab.research.google.com/github/Zurezh/Python_LearnByDoing/blob/master/Module_3_Fundamentals_of_Python.ipynb\" target=\"_parent\"><img src=\"https://colab.research.google.com/assets/colab-badge.svg\" alt=\"Open In Colab\"/></a>"
   ]
  },
  {
   "attachments": {},
   "cell_type": "markdown",
   "metadata": {
    "colab_type": "text",
    "id": "oN_5Ds6NzlsR"
   },
   "source": [
    "# Module 3 - Fundamentals of Python\n",
    "\n",
    "1. Lists\n",
    "2. Using the [] brackets\n",
    "3. Slicing\n",
    "4. Tuples\n",
    "5. Functions\n",
    "6. Packages\n",
    "7. Numpy and Arrays\n",
    "8. Slicing Arrays\n",
    "9. Excercise"
   ]
  },
  {
   "attachments": {},
   "cell_type": "markdown",
   "metadata": {
    "colab_type": "text",
    "id": "eKwAP-cKoGeF"
   },
   "source": [
    "## 1. Lists"
   ]
  },
  {
   "cell_type": "code",
   "execution_count": null,
   "metadata": {
    "colab": {},
    "colab_type": "code",
    "id": "9iTp5Hz_mkBB"
   },
   "outputs": [],
   "source": [
    "myFirstList = [2,3,52,3234,62432]"
   ]
  },
  {
   "cell_type": "code",
   "execution_count": null,
   "metadata": {
    "colab": {
     "base_uri": "https://localhost:8080/",
     "height": 34
    },
    "colab_type": "code",
    "id": "jB7zVKVroPbX",
    "outputId": "52680336-bf52-429d-ee96-379e1c68e4ae"
   },
   "outputs": [],
   "source": [
    "myFirstList"
   ]
  },
  {
   "cell_type": "code",
   "execution_count": null,
   "metadata": {
    "colab": {
     "base_uri": "https://localhost:8080/",
     "height": 34
    },
    "colab_type": "code",
    "id": "Qa4h8VEHoQQM",
    "outputId": "5b2106ef-02b3-40fd-af7b-0f736f00dc84"
   },
   "outputs": [],
   "source": [
    "type(myFirstList)"
   ]
  },
  {
   "cell_type": "code",
   "execution_count": null,
   "metadata": {
    "colab": {},
    "colab_type": "code",
    "id": "FeIEksCmoVQg"
   },
   "outputs": [],
   "source": [
    "l2 = ['hello',23,True,22.3]"
   ]
  },
  {
   "cell_type": "code",
   "execution_count": null,
   "metadata": {
    "colab": {
     "base_uri": "https://localhost:8080/",
     "height": 34
    },
    "colab_type": "code",
    "id": "FLDdV6WDoZkl",
    "outputId": "1fe6f95e-3589-4efd-c714-2e3c8c18c3e9"
   },
   "outputs": [],
   "source": [
    "l2"
   ]
  },
  {
   "cell_type": "code",
   "execution_count": null,
   "metadata": {
    "colab": {},
    "colab_type": "code",
    "id": "FT4D932NoaDh"
   },
   "outputs": [],
   "source": [
    "l3 = ['how are you?',55,[3,45,56,234]]"
   ]
  },
  {
   "cell_type": "code",
   "execution_count": null,
   "metadata": {
    "colab": {
     "base_uri": "https://localhost:8080/",
     "height": 34
    },
    "colab_type": "code",
    "id": "K4_1S4AEolZC",
    "outputId": "9c6aceac-c660-4abe-b092-7a41d469446f"
   },
   "outputs": [],
   "source": [
    "l3"
   ]
  },
  {
   "attachments": {},
   "cell_type": "markdown",
   "metadata": {
    "colab_type": "text",
    "id": "nKRhfvtuonmt"
   },
   "source": [
    "---"
   ]
  },
  {
   "cell_type": "code",
   "execution_count": null,
   "metadata": {
    "colab": {
     "base_uri": "https://localhost:8080/",
     "height": 34
    },
    "colab_type": "code",
    "id": "W3SVXFywomBT",
    "outputId": "4c31d385-2dde-4e9d-e4de-832a35194981"
   },
   "outputs": [],
   "source": [
    "range(15) #Python 3 - This is the same as xrange() in python 2"
   ]
  },
  {
   "cell_type": "code",
   "execution_count": null,
   "metadata": {
    "colab": {
     "base_uri": "https://localhost:8080/",
     "height": 34
    },
    "colab_type": "code",
    "id": "qCQZDJpdorcX",
    "outputId": "7b509322-9638-46c7-e2f9-81b11c6401af"
   },
   "outputs": [],
   "source": [
    "list(range(15))"
   ]
  },
  {
   "cell_type": "code",
   "execution_count": null,
   "metadata": {
    "colab": {
     "base_uri": "https://localhost:8080/",
     "height": 34
    },
    "colab_type": "code",
    "id": "NCoiUzrkotfW",
    "outputId": "06406376-a8d9-4cbf-b809-0831f9299be9"
   },
   "outputs": [],
   "source": [
    "x = [1,2,3,4,5,6]\n",
    "x"
   ]
  },
  {
   "cell_type": "code",
   "execution_count": null,
   "metadata": {
    "colab": {},
    "colab_type": "code",
    "id": "3AhzLCljp6Rr"
   },
   "outputs": [],
   "source": [
    "y = list(range(7))"
   ]
  },
  {
   "cell_type": "code",
   "execution_count": null,
   "metadata": {
    "colab": {
     "base_uri": "https://localhost:8080/",
     "height": 34
    },
    "colab_type": "code",
    "id": "sgjor27fp8pj",
    "outputId": "24c14210-3b2f-48f6-a27d-e834af0d842b"
   },
   "outputs": [],
   "source": [
    "y"
   ]
  },
  {
   "cell_type": "code",
   "execution_count": null,
   "metadata": {
    "colab": {},
    "colab_type": "code",
    "id": "jphkaixFp9O4"
   },
   "outputs": [],
   "source": [
    "z = list(range(1,9))"
   ]
  },
  {
   "cell_type": "code",
   "execution_count": null,
   "metadata": {
    "colab": {
     "base_uri": "https://localhost:8080/",
     "height": 34
    },
    "colab_type": "code",
    "id": "_9XT4dWxqA-x",
    "outputId": "e9ce1d5a-a91b-4a69-e773-ef81dc0de971"
   },
   "outputs": [],
   "source": [
    "z"
   ]
  },
  {
   "cell_type": "code",
   "execution_count": null,
   "metadata": {
    "colab": {},
    "colab_type": "code",
    "id": "pMnokiQJqBYw"
   },
   "outputs": [],
   "source": [
    "z2 = list(range(100,120))"
   ]
  },
  {
   "cell_type": "code",
   "execution_count": null,
   "metadata": {
    "colab": {
     "base_uri": "https://localhost:8080/",
     "height": 357
    },
    "colab_type": "code",
    "id": "U5XNnSYqqFLe",
    "outputId": "607a60a1-2668-4abd-b2b9-cadfe53938b4"
   },
   "outputs": [],
   "source": [
    "z2"
   ]
  },
  {
   "cell_type": "code",
   "execution_count": null,
   "metadata": {
    "colab": {},
    "colab_type": "code",
    "id": "SzPP8HayqFsE"
   },
   "outputs": [],
   "source": [
    "w = list(range(100,210,20))"
   ]
  },
  {
   "cell_type": "code",
   "execution_count": null,
   "metadata": {
    "colab": {
     "base_uri": "https://localhost:8080/",
     "height": 34
    },
    "colab_type": "code",
    "id": "rXbpI-bOqKWL",
    "outputId": "e862ed64-7eed-4e2a-e6e0-7189db644cc4"
   },
   "outputs": [],
   "source": [
    "w"
   ]
  },
  {
   "attachments": {},
   "cell_type": "markdown",
   "metadata": {
    "colab_type": "text",
    "id": "Uc-WKxAiqg48"
   },
   "source": [
    "---"
   ]
  },
  {
   "attachments": {},
   "cell_type": "markdown",
   "metadata": {
    "colab_type": "text",
    "id": "0fbVBTX1q0Tk"
   },
   "source": [
    "## 2. Using the [] brackets"
   ]
  },
  {
   "cell_type": "code",
   "execution_count": null,
   "metadata": {
    "colab": {},
    "colab_type": "code",
    "id": "yr1EQh8gqKmA"
   },
   "outputs": [],
   "source": [
    "w = ['a','b','c','d','e']"
   ]
  },
  {
   "cell_type": "code",
   "execution_count": null,
   "metadata": {
    "colab": {
     "base_uri": "https://localhost:8080/",
     "height": 34
    },
    "colab_type": "code",
    "id": "RfzPXVH0q9Fs",
    "outputId": "155f2523-a27c-43e5-d6eb-9048ab21e6b2"
   },
   "outputs": [],
   "source": [
    "w"
   ]
  },
  {
   "cell_type": "code",
   "execution_count": null,
   "metadata": {
    "colab": {
     "base_uri": "https://localhost:8080/",
     "height": 34
    },
    "colab_type": "code",
    "id": "kshsKZ4-q9au",
    "outputId": "ea8de812-4ec9-4e3c-ea76-d6f9169dada6"
   },
   "outputs": [],
   "source": [
    "w[0]"
   ]
  },
  {
   "cell_type": "code",
   "execution_count": null,
   "metadata": {
    "colab": {
     "base_uri": "https://localhost:8080/",
     "height": 34
    },
    "colab_type": "code",
    "id": "Ljg4Tccwq-SF",
    "outputId": "a7b39403-bb87-4ba9-b827-59b773faea70"
   },
   "outputs": [],
   "source": [
    "len(w)"
   ]
  },
  {
   "cell_type": "code",
   "execution_count": null,
   "metadata": {
    "colab": {
     "base_uri": "https://localhost:8080/",
     "height": 34
    },
    "colab_type": "code",
    "id": "DmHf-PVTrG3E",
    "outputId": "8c930d50-d6ce-4969-9c31-1057c185ad30"
   },
   "outputs": [],
   "source": [
    "w[4]"
   ]
  },
  {
   "cell_type": "code",
   "execution_count": null,
   "metadata": {
    "colab": {
     "base_uri": "https://localhost:8080/",
     "height": 34
    },
    "colab_type": "code",
    "id": "Ejw874KWrLrg",
    "outputId": "6939dddd-6404-4c6a-ef96-55b8b999994b"
   },
   "outputs": [],
   "source": [
    "w[-1]"
   ]
  },
  {
   "cell_type": "code",
   "execution_count": null,
   "metadata": {
    "colab": {},
    "colab_type": "code",
    "id": "D-Py1fuOrOAt"
   },
   "outputs": [],
   "source": [
    "w[2]=44"
   ]
  },
  {
   "cell_type": "code",
   "execution_count": null,
   "metadata": {
    "colab": {
     "base_uri": "https://localhost:8080/",
     "height": 34
    },
    "colab_type": "code",
    "id": "Tas2X-odrYlp",
    "outputId": "4351bc67-0c2f-4c2c-fb49-417c0ac099f3"
   },
   "outputs": [],
   "source": [
    "w"
   ]
  },
  {
   "attachments": {},
   "cell_type": "markdown",
   "metadata": {
    "colab_type": "text",
    "id": "k0rt67BbrqaP"
   },
   "source": [
    "## 3. Slicing"
   ]
  },
  {
   "cell_type": "code",
   "execution_count": null,
   "metadata": {
    "colab": {},
    "colab_type": "code",
    "id": "KrjVi65jrY_u"
   },
   "outputs": [],
   "source": [
    "letters = ['A','B','C','D','E','F','G','H','I','J']"
   ]
  },
  {
   "cell_type": "code",
   "execution_count": null,
   "metadata": {
    "colab": {
     "base_uri": "https://localhost:8080/",
     "height": 34
    },
    "colab_type": "code",
    "id": "eQ7gM6Krr_xQ",
    "outputId": "47e0ff1c-e30b-4cbd-e230-77b20e300c46"
   },
   "outputs": [],
   "source": [
    "letters"
   ]
  },
  {
   "cell_type": "code",
   "execution_count": null,
   "metadata": {
    "colab": {
     "base_uri": "https://localhost:8080/",
     "height": 34
    },
    "colab_type": "code",
    "id": "uHldyDS4sAXE",
    "outputId": "83c29032-f08a-4435-a43f-a45f0d7fc3e3"
   },
   "outputs": [],
   "source": [
    "letters[:]"
   ]
  },
  {
   "cell_type": "code",
   "execution_count": null,
   "metadata": {
    "colab": {
     "base_uri": "https://localhost:8080/",
     "height": 34
    },
    "colab_type": "code",
    "id": "AYDYzWZ_sBxI",
    "outputId": "ef26c6e2-7bbf-4511-98fe-d272ee038acd"
   },
   "outputs": [],
   "source": [
    "letters[2:]"
   ]
  },
  {
   "cell_type": "code",
   "execution_count": null,
   "metadata": {
    "colab": {
     "base_uri": "https://localhost:8080/",
     "height": 34
    },
    "colab_type": "code",
    "id": "XEsT97zjsNZQ",
    "outputId": "56221330-fd77-4846-f390-0b06b640e0b9"
   },
   "outputs": [],
   "source": [
    "letters[:7]"
   ]
  },
  {
   "cell_type": "code",
   "execution_count": null,
   "metadata": {
    "colab": {
     "base_uri": "https://localhost:8080/",
     "height": 34
    },
    "colab_type": "code",
    "id": "C4dhNXxasDvg",
    "outputId": "d07fbcf1-ccc9-47f0-d89c-0ca7327a519f"
   },
   "outputs": [],
   "source": [
    "letters[2:8]"
   ]
  },
  {
   "cell_type": "code",
   "execution_count": null,
   "metadata": {
    "colab": {
     "base_uri": "https://localhost:8080/",
     "height": 34
    },
    "colab_type": "code",
    "id": "59ig48XBsSD5",
    "outputId": "2d6de45f-d86f-46bf-fefb-8f364dee39a1"
   },
   "outputs": [],
   "source": [
    "letters[-8:7]"
   ]
  },
  {
   "cell_type": "code",
   "execution_count": null,
   "metadata": {
    "colab": {
     "base_uri": "https://localhost:8080/",
     "height": 34
    },
    "colab_type": "code",
    "id": "sbryusVdsYD8",
    "outputId": "d0e87f89-0a48-4d70-aeba-ab32ad4c0bb1"
   },
   "outputs": [],
   "source": [
    "letters[-8:-3]"
   ]
  },
  {
   "attachments": {},
   "cell_type": "markdown",
   "metadata": {
    "colab_type": "text",
    "id": "U0gH00n0scPu"
   },
   "source": [
    "### 3.1 Advanced Slicing"
   ]
  },
  {
   "cell_type": "code",
   "execution_count": null,
   "metadata": {
    "colab": {
     "base_uri": "https://localhost:8080/",
     "height": 34
    },
    "colab_type": "code",
    "id": "-vT3yI1lsFz5",
    "outputId": "5512a3ae-3fd0-4651-d9be-0c846acb2e6f"
   },
   "outputs": [],
   "source": [
    "letters[2:9:2]"
   ]
  },
  {
   "cell_type": "code",
   "execution_count": null,
   "metadata": {
    "colab": {
     "base_uri": "https://localhost:8080/",
     "height": 34
    },
    "colab_type": "code",
    "id": "bnhPP_Z8sJ0a",
    "outputId": "513f011b-fb1d-4a67-f648-503bb9a04fcd"
   },
   "outputs": [],
   "source": [
    "letters[::3]"
   ]
  },
  {
   "cell_type": "code",
   "execution_count": null,
   "metadata": {
    "colab": {
     "base_uri": "https://localhost:8080/",
     "height": 34
    },
    "colab_type": "code",
    "id": "bYvAz4FQs4U8",
    "outputId": "47cf4d76-0cbe-4eae-ebe7-84becf0045e3"
   },
   "outputs": [],
   "source": [
    "letters[::-1]"
   ]
  },
  {
   "cell_type": "code",
   "execution_count": null,
   "metadata": {
    "colab": {
     "base_uri": "https://localhost:8080/",
     "height": 34
    },
    "colab_type": "code",
    "id": "-UtfJzhttFiO",
    "outputId": "df7da76a-7548-494b-944f-f9e8da6e2de0"
   },
   "outputs": [],
   "source": [
    "letters[7:2:-1]"
   ]
  },
  {
   "attachments": {},
   "cell_type": "markdown",
   "metadata": {
    "colab_type": "text",
    "id": "qQVTR-0LsvTI"
   },
   "source": [
    "## 4. Tuples"
   ]
  },
  {
   "cell_type": "code",
   "execution_count": null,
   "metadata": {
    "colab": {},
    "colab_type": "code",
    "id": "MBhYqA6PslhP"
   },
   "outputs": [],
   "source": [
    "t1 = (234,525,623)"
   ]
  },
  {
   "cell_type": "code",
   "execution_count": null,
   "metadata": {
    "colab": {
     "base_uri": "https://localhost:8080/",
     "height": 34
    },
    "colab_type": "code",
    "id": "Ocw46eGotQQf",
    "outputId": "7b6d2afb-8f90-41ef-b44f-0ac4bd8dec6d"
   },
   "outputs": [],
   "source": [
    "t1"
   ]
  },
  {
   "cell_type": "code",
   "execution_count": null,
   "metadata": {
    "colab": {
     "base_uri": "https://localhost:8080/",
     "height": 34
    },
    "colab_type": "code",
    "id": "DjJqC72etQ7Q",
    "outputId": "0b2d928a-c8b3-41ad-8014-ccc348385692"
   },
   "outputs": [],
   "source": [
    "t1[0]"
   ]
  },
  {
   "attachments": {},
   "cell_type": "markdown",
   "metadata": {
    "colab_type": "text",
    "id": "qtRHcjWgtdxx"
   },
   "source": [
    "## 5. Functions"
   ]
  },
  {
   "cell_type": "code",
   "execution_count": null,
   "metadata": {
    "colab": {
     "base_uri": "https://localhost:8080/",
     "height": 34
    },
    "colab_type": "code",
    "id": "7DORFGE1tfN-",
    "outputId": "bece45c9-5df6-45cc-b3a9-adb4c3762473"
   },
   "outputs": [],
   "source": [
    "range(20,31)"
   ]
  },
  {
   "cell_type": "code",
   "execution_count": null,
   "metadata": {
    "colab": {
     "base_uri": "https://localhost:8080/",
     "height": 34
    },
    "colab_type": "code",
    "id": "wJmdGHustpOA",
    "outputId": "287e5b21-0a43-4ace-f7fe-422fda06b970"
   },
   "outputs": [],
   "source": [
    "list(range(20,31))"
   ]
  },
  {
   "cell_type": "code",
   "execution_count": null,
   "metadata": {
    "colab": {},
    "colab_type": "code",
    "id": "lHXy7YBrtq_V"
   },
   "outputs": [],
   "source": [
    "mylist1 = list(range(20,31))"
   ]
  },
  {
   "cell_type": "code",
   "execution_count": null,
   "metadata": {
    "colab": {
     "base_uri": "https://localhost:8080/",
     "height": 34
    },
    "colab_type": "code",
    "id": "_b07po_Jttcc",
    "outputId": "112f774f-acdd-490b-89f3-6e4c9bc43f36"
   },
   "outputs": [],
   "source": [
    "mylist1"
   ]
  },
  {
   "cell_type": "code",
   "execution_count": null,
   "metadata": {
    "colab": {
     "base_uri": "https://localhost:8080/",
     "height": 34
    },
    "colab_type": "code",
    "id": "C1FC3dfPtuLn",
    "outputId": "4f0f166c-60ca-456d-aece-8d0de375e6e3"
   },
   "outputs": [],
   "source": [
    "print(mylist1)"
   ]
  },
  {
   "cell_type": "code",
   "execution_count": null,
   "metadata": {
    "colab": {
     "base_uri": "https://localhost:8080/",
     "height": 34
    },
    "colab_type": "code",
    "id": "1SFD_9NCtvVR",
    "outputId": "fa65100f-f971-4df1-8e05-44cf038de986"
   },
   "outputs": [],
   "source": [
    "len(mylist1)"
   ]
  },
  {
   "cell_type": "code",
   "execution_count": null,
   "metadata": {
    "colab": {
     "base_uri": "https://localhost:8080/",
     "height": 34
    },
    "colab_type": "code",
    "id": "cOe-QFKRtwUs",
    "outputId": "3daf2bc7-df0f-4a19-e53a-d4a974747a76"
   },
   "outputs": [],
   "source": [
    "type(mylist1)"
   ]
  },
  {
   "cell_type": "code",
   "execution_count": null,
   "metadata": {
    "colab": {
     "base_uri": "https://localhost:8080/",
     "height": 34
    },
    "colab_type": "code",
    "id": "j2nPAehqt0CD",
    "outputId": "0d071d93-bbe4-4129-b40f-35cac12baa32"
   },
   "outputs": [],
   "source": [
    "max(mylist1)"
   ]
  },
  {
   "cell_type": "code",
   "execution_count": null,
   "metadata": {
    "colab": {
     "base_uri": "https://localhost:8080/",
     "height": 34
    },
    "colab_type": "code",
    "id": "1LjG8e04t27h",
    "outputId": "9f12a5c1-cdaa-48be-f5be-b1e493cc854e"
   },
   "outputs": [],
   "source": [
    "min(mylist1)"
   ]
  },
  {
   "attachments": {},
   "cell_type": "markdown",
   "metadata": {
    "colab_type": "text",
    "id": "mvbqF7RFt-6k"
   },
   "source": [
    "## 6. Packages"
   ]
  },
  {
   "attachments": {},
   "cell_type": "markdown",
   "metadata": {
    "colab_type": "text",
    "id": "SMxmj6NHuHp5"
   },
   "source": [
    "A **Module** is simply a file containing Python definitions, functions, and statements. Putting into code into modules is useful because of the ability to import the module functionality into your script or IPython session.\n",
    "\n",
    "A **Package** is just a way of collecting related modules together within a single tree-like hierarchy. Very complex packages like NumPy of SciPy have hundreds of individual modules so putting them into a directory-like structure keeps things organized and avoids name collisions.\n",
    "\n",
    "The Steps:\n",
    "1. Find Package (Optional)\n",
    "2. Install Package\n",
    "3. Import Package or Import Function"
   ]
  },
  {
   "attachments": {},
   "cell_type": "markdown",
   "metadata": {
    "colab_type": "text",
    "id": "8OLSaQbZvEu8"
   },
   "source": [
    "## 7. Numpy and Arrays in Python"
   ]
  },
  {
   "cell_type": "code",
   "execution_count": null,
   "metadata": {
    "colab": {},
    "colab_type": "code",
    "id": "8rE5LZnVvIBh"
   },
   "outputs": [],
   "source": [
    "l = [1234,23,22345,22,-234]"
   ]
  },
  {
   "cell_type": "code",
   "execution_count": null,
   "metadata": {
    "colab": {},
    "colab_type": "code",
    "id": "N3QZ3Z0svLjm"
   },
   "outputs": [],
   "source": [
    "import numpy as np"
   ]
  },
  {
   "cell_type": "code",
   "execution_count": null,
   "metadata": {
    "colab": {},
    "colab_type": "code",
    "id": "MqRgFywlvRc5"
   },
   "outputs": [],
   "source": [
    "a = np.array(l)"
   ]
  },
  {
   "cell_type": "code",
   "execution_count": null,
   "metadata": {
    "colab": {
     "base_uri": "https://localhost:8080/",
     "height": 34
    },
    "colab_type": "code",
    "id": "99fMm668vTP7",
    "outputId": "58e4ff98-62c7-4077-fa7b-b659adbd411e"
   },
   "outputs": [],
   "source": [
    "a"
   ]
  },
  {
   "cell_type": "code",
   "execution_count": null,
   "metadata": {
    "colab": {},
    "colab_type": "code",
    "id": "IlBAy8kavTgZ"
   },
   "outputs": [],
   "source": [
    "b=np.array([12,455,65.3,True,'a'])"
   ]
  },
  {
   "cell_type": "code",
   "execution_count": null,
   "metadata": {
    "colab": {
     "base_uri": "https://localhost:8080/",
     "height": 34
    },
    "colab_type": "code",
    "id": "IkMuVPtXvZar",
    "outputId": "aaf5768a-14e3-4634-abd9-63c5f422a69b"
   },
   "outputs": [],
   "source": [
    "b"
   ]
  },
  {
   "cell_type": "code",
   "execution_count": null,
   "metadata": {
    "colab": {
     "base_uri": "https://localhost:8080/",
     "height": 34
    },
    "colab_type": "code",
    "id": "nB-pYcWEvZwm",
    "outputId": "47cd722c-e134-4079-a1ae-3e129de2e38a"
   },
   "outputs": [],
   "source": [
    "print(b)"
   ]
  },
  {
   "cell_type": "code",
   "execution_count": null,
   "metadata": {
    "colab": {
     "base_uri": "https://localhost:8080/",
     "height": 34
    },
    "colab_type": "code",
    "id": "3jMWWeE-vdfk",
    "outputId": "39458d4d-1d99-462c-8a55-dc307e54ffa3"
   },
   "outputs": [],
   "source": [
    "a.mean()"
   ]
  },
  {
   "attachments": {},
   "cell_type": "markdown",
   "metadata": {
    "colab_type": "text",
    "id": "5kgDb9z-v2bP"
   },
   "source": [
    "## 8. Slicing Arrays"
   ]
  },
  {
   "cell_type": "code",
   "execution_count": null,
   "metadata": {
    "colab": {
     "base_uri": "https://localhost:8080/",
     "height": 34
    },
    "colab_type": "code",
    "id": "ML1CnprsvuLX",
    "outputId": "7479634b-6aa4-4a72-9fbe-dd804296ac50"
   },
   "outputs": [],
   "source": [
    "l[1:]"
   ]
  },
  {
   "cell_type": "code",
   "execution_count": null,
   "metadata": {
    "colab": {
     "base_uri": "https://localhost:8080/",
     "height": 34
    },
    "colab_type": "code",
    "id": "9c6UqygGv6go",
    "outputId": "c457d290-3f9d-4529-9434-5e19c09637eb"
   },
   "outputs": [],
   "source": [
    "a"
   ]
  },
  {
   "cell_type": "code",
   "execution_count": null,
   "metadata": {
    "colab": {
     "base_uri": "https://localhost:8080/",
     "height": 34
    },
    "colab_type": "code",
    "id": "6LiPY7zbwBGl",
    "outputId": "6a159d5c-ef36-4094-c9ea-9592f362e107"
   },
   "outputs": [],
   "source": [
    "a[2:]"
   ]
  },
  {
   "cell_type": "code",
   "execution_count": null,
   "metadata": {
    "colab": {
     "base_uri": "https://localhost:8080/",
     "height": 34
    },
    "colab_type": "code",
    "id": "QGPEOOqIwDo5",
    "outputId": "13a15be3-ee09-45b7-e52d-9b4a9c2e6493"
   },
   "outputs": [],
   "source": [
    "a[2:4]"
   ]
  },
  {
   "cell_type": "code",
   "execution_count": null,
   "metadata": {
    "colab": {},
    "colab_type": "code",
    "id": "Z8kfBDe0wII6"
   },
   "outputs": [],
   "source": [
    "b = a[2:4]"
   ]
  },
  {
   "cell_type": "code",
   "execution_count": null,
   "metadata": {
    "colab": {
     "base_uri": "https://localhost:8080/",
     "height": 34
    },
    "colab_type": "code",
    "id": "DVMpEBBFwQmW",
    "outputId": "4bd89fc3-188f-4a02-c7a0-ba8e445b48ff"
   },
   "outputs": [],
   "source": [
    "b"
   ]
  },
  {
   "cell_type": "code",
   "execution_count": null,
   "metadata": {
    "colab": {},
    "colab_type": "code",
    "id": "1kh8s3ZfwRF-"
   },
   "outputs": [],
   "source": [
    "b[:] = 111"
   ]
  },
  {
   "cell_type": "code",
   "execution_count": null,
   "metadata": {
    "colab": {
     "base_uri": "https://localhost:8080/",
     "height": 34
    },
    "colab_type": "code",
    "id": "BXoEwwEjwY4I",
    "outputId": "a6a6562e-293a-4d01-c266-a237f5339d11"
   },
   "outputs": [],
   "source": [
    "a"
   ]
  },
  {
   "cell_type": "code",
   "execution_count": null,
   "metadata": {
    "colab": {},
    "colab_type": "code",
    "id": "yH1MzK7nwZO9"
   },
   "outputs": [],
   "source": [
    "c = a.copy()"
   ]
  },
  {
   "cell_type": "code",
   "execution_count": null,
   "metadata": {
    "colab": {
     "base_uri": "https://localhost:8080/",
     "height": 34
    },
    "colab_type": "code",
    "id": "P3My6A0mwlX5",
    "outputId": "29df6ec7-6ae6-42da-ef4a-3089eeafc2c3"
   },
   "outputs": [],
   "source": [
    "c"
   ]
  },
  {
   "attachments": {},
   "cell_type": "markdown",
   "metadata": {
    "colab_type": "text",
    "id": "ppTv_qry2ZbR"
   },
   "source": [
    "## 9. Excercise - Financial Statement Analysis\n",
    "\n"
   ]
  },
  {
   "attachments": {},
   "cell_type": "markdown",
   "metadata": {
    "colab_type": "text",
    "id": "l2WwO8yT2ov8"
   },
   "source": [
    "Scenario: You are a Data Scientist working for a consulting firm. One of your colleagues from the Auditing department has asked you to help them assess the financial statement of organization X.\n",
    "\n",
    "You have been supplied with two lists of data; monthly revenue and expenses for the financial year in question. Your taks is to calculate the following financial metrics:\n",
    "\n",
    "- Profit for each month\n",
    "- profit after tax for each month (the tax rate is 30%)\n",
    "- profit margin for each month - equals to profit after tax divided by revenue\n",
    "- good months - where the profit after tax was greater than the mean for the year\n",
    "- bad months - where the profit after tax was less than the mean for the year\n",
    "- the best month - where the profit after tax was max for the year\n",
    "- the worst month - where the profit after tax was min for the year\n",
    "\n",
    "All results needs to be presented as lists.\n",
    "\n",
    "Results for dollar values need to be calculated with 0.01 dollar precision, but need to be presenteed in Units of $1,00- (i.e 1k) with no decimal pointss\n",
    "\n",
    "Results fot he profit margin ratio need to be presented in units of % with no decimal points\n",
    "\n",
    "Note: Your colleague has warned you that it is okay for tax for any given month to be negative (in accounting terms, negative tax translates into a deferred tax asset)"
   ]
  },
  {
   "cell_type": "code",
   "execution_count": null,
   "metadata": {
    "colab": {},
    "colab_type": "code",
    "id": "rwMPFRjn2l9P"
   },
   "outputs": [],
   "source": [
    "#Data \n",
    "revenue = [14574.49, 7606.46, 8611.41, 9175.41, 8058.65, 8105.44, 11496.28, 9766.09, 10305.32, 14379.96, 10713.97, 15433.50]\n",
    "expenses = [12051.82, 5695.07, 12319.20, 12089.72, 8658.57, 840.20, 3285.73, 5821.12, 6976.93, 16618.61, 10054.37, 3803.96]"
   ]
  },
  {
   "cell_type": "code",
   "execution_count": null,
   "metadata": {
    "colab": {
     "base_uri": "https://localhost:8080/",
     "height": 221
    },
    "colab_type": "code",
    "id": "wKt3oJDv3-ge",
    "outputId": "f1f692d5-e4c5-460f-8e2c-542f39198ea3"
   },
   "outputs": [],
   "source": [
    "# Calculate profit (revenue - expenses)\n",
    "profit = list([])\n",
    "\n",
    "for i in range(0,len(revenue)):\n",
    "  profit.append(revenue[i] - expenses[i])\n",
    "profit"
   ]
  },
  {
   "cell_type": "code",
   "execution_count": null,
   "metadata": {
    "colab": {
     "base_uri": "https://localhost:8080/",
     "height": 221
    },
    "colab_type": "code",
    "id": "Cyu7D_uM53r6",
    "outputId": "d0f6c165-6cef-4b03-ef05-d482870b631f"
   },
   "outputs": [],
   "source": [
    "# Calculate tax (profit * 30%)\n",
    "tax = [round(i*0.3,2) for i in profit]\n",
    "tax"
   ]
  },
  {
   "cell_type": "code",
   "execution_count": null,
   "metadata": {
    "colab": {
     "base_uri": "https://localhost:8080/",
     "height": 221
    },
    "colab_type": "code",
    "id": "k7EKLysX6VnW",
    "outputId": "9e2bc2d9-5ae8-4c25-dd93-ff8935c3ac49"
   },
   "outputs": [],
   "source": [
    "# Profit after tax\n",
    "profit_after_tax = list([])\n",
    "\n",
    "for i in range(0,len(profit)):\n",
    "  profit_after_tax.append(profit[i]-tax[i])\n",
    "profit_after_tax"
   ]
  },
  {
   "cell_type": "code",
   "execution_count": null,
   "metadata": {
    "colab": {
     "base_uri": "https://localhost:8080/",
     "height": 221
    },
    "colab_type": "code",
    "id": "cQnXDNB06t6i",
    "outputId": "136ea823-58c8-455f-9c22-08647aa1da53"
   },
   "outputs": [],
   "source": [
    "# Profit margin after tax\n",
    "profit_margin = list([])\n",
    "for i in range(0,len(profit)):\n",
    "  profit_margin.append(profit_after_tax[i]/revenue[i])\n",
    "profit_margin = [round((i*100),2) for i in profit_margin]\n",
    "profit_margin"
   ]
  },
  {
   "cell_type": "code",
   "execution_count": null,
   "metadata": {
    "colab": {
     "base_uri": "https://localhost:8080/",
     "height": 34
    },
    "colab_type": "code",
    "id": "BoYCp1P87I8Q",
    "outputId": "19e865cc-dc25-45d1-9864-224ba0af39f7"
   },
   "outputs": [],
   "source": [
    "# Profit After Tax Mean\n",
    "\n",
    "mean_pat = sum(profit_after_tax)/len(profit_after_tax)\n",
    "mean_pat"
   ]
  },
  {
   "cell_type": "code",
   "execution_count": null,
   "metadata": {
    "colab": {
     "base_uri": "https://localhost:8080/",
     "height": 54
    },
    "colab_type": "code",
    "id": "fRmHmnpV7tzS",
    "outputId": "80e8551c-18d5-49eb-cd86-4ce862d434a7"
   },
   "outputs": [],
   "source": [
    "good_months = list([])\n",
    "for i in range(0,len(profit)):\n",
    "  good_months.append(profit_after_tax[i] > mean_pat)\n",
    "good_months"
   ]
  },
  {
   "cell_type": "code",
   "execution_count": null,
   "metadata": {
    "colab": {
     "base_uri": "https://localhost:8080/",
     "height": 54
    },
    "colab_type": "code",
    "id": "ymh8bU-e8CUU",
    "outputId": "a610ae73-f900-437f-e044-2b3af3cc04d2"
   },
   "outputs": [],
   "source": [
    "bad_months = list([])\n",
    "for i in range(0,len(profit)):\n",
    "  bad_months.append(profit_after_tax[i] < mean_pat)\n",
    "bad_months"
   ]
  },
  {
   "cell_type": "code",
   "execution_count": null,
   "metadata": {
    "colab": {
     "base_uri": "https://localhost:8080/",
     "height": 221
    },
    "colab_type": "code",
    "id": "bkS7Wpx48Q_e",
    "outputId": "0c618108-a6e0-4baa-a038-26499f76a3c8"
   },
   "outputs": [],
   "source": [
    "best_month = list([])\n",
    "for i in range(0,len(profit)):\n",
    "  best_month.append(profit_after_tax[i] == max(profit_after_tax))\n",
    "best_month"
   ]
  },
  {
   "cell_type": "code",
   "execution_count": null,
   "metadata": {
    "colab": {
     "base_uri": "https://localhost:8080/",
     "height": 221
    },
    "colab_type": "code",
    "id": "W2xcRTy-8wgZ",
    "outputId": "4f6ca05f-8e7b-4b2c-b2a1-3670a626691b"
   },
   "outputs": [],
   "source": [
    "worst_month = list([])\n",
    "for i in range(0,len(profit)):\n",
    "  worst_month.append(profit_after_tax[i] == min(profit_after_tax))\n",
    "worst_month"
   ]
  },
  {
   "cell_type": "code",
   "execution_count": null,
   "metadata": {
    "colab": {},
    "colab_type": "code",
    "id": "eeu3f8SF86aL"
   },
   "outputs": [],
   "source": [
    "# Convert all calculations to units of one thousand dollars\n",
    "\n",
    "revenue_1000 = [round(i/1000,2) for i in revenue]\n",
    "expenses_1000 = [round(i/1000,2) for i in expenses]\n",
    "profit_1000 = [round(i/1000,2) for i in profit]\n",
    "profit_after_tax_1000 = [round(i/1000,2) for i in profit_after_tax]\n",
    "\n",
    "revenue_1000 = [int(i) for i in revenue_1000]\n",
    "expenses_1000 = [int(i) for i in expenses_1000]\n",
    "profit_1000 = [int(i) for i in profit_1000]\n",
    "profit_after_tax_1000 = [int(i) for i in profit_after_tax_1000]"
   ]
  },
  {
   "cell_type": "code",
   "execution_count": null,
   "metadata": {
    "colab": {
     "base_uri": "https://localhost:8080/",
     "height": 190
    },
    "colab_type": "code",
    "id": "ytL-oasm9zD-",
    "outputId": "41ccf3f3-2c5e-4da1-fcb3-3cf3f431d502"
   },
   "outputs": [],
   "source": [
    "# Print Results\n",
    "\n",
    "print(\"Revenue: \",revenue_1000)\n",
    "print(\"Expenses: \",expenses_1000)\n",
    "print(\"Profit: \",profit_1000)\n",
    "print(\"Profit After Tax: \",profit_after_tax_1000)\n",
    "print(\"Profit Margin: \",profit_margin)\n",
    "print(\"Good Months: \",good_months)\n",
    "print(\"Bad Months: \",bad_months)\n",
    "print(\"Best Month: \",best_month)\n",
    "print(\"Worst Month: \",worst_month)"
   ]
  },
  {
   "attachments": {},
   "cell_type": "markdown",
   "metadata": {
    "colab": {},
    "colab_type": "code",
    "id": "HiP0XTCb-Cqr"
   },
   "source": [
    "### End of Module 3 - Fundamentals of Python"
   ]
  }
 ],
 "metadata": {
  "colab": {
   "include_colab_link": true,
   "name": "Module 3 Fundamentals of Python.ipynb",
   "provenance": []
  },
  "kernelspec": {
   "display_name": "Python 3",
   "language": "python",
   "name": "python3"
  },
  "language_info": {
   "codemirror_mode": {
    "name": "ipython",
    "version": 3
   },
   "file_extension": ".py",
   "mimetype": "text/x-python",
   "name": "python",
   "nbconvert_exporter": "python",
   "pygments_lexer": "ipython3",
   "version": "3.9.6"
  }
 },
 "nbformat": 4,
 "nbformat_minor": 1
}
