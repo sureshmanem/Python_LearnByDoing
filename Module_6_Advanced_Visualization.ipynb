{
 "cells": [
  {
   "attachments": {},
   "cell_type": "markdown",
   "metadata": {
    "colab_type": "text",
    "id": "view-in-github"
   },
   "source": [
    "<a href=\"https://colab.research.google.com/github/Zurezh/Python_LearnByDoing/blob/master/Module_6_Advanced_Visualization.ipynb\" target=\"_parent\"><img src=\"https://colab.research.google.com/assets/colab-badge.svg\" alt=\"Open In Colab\"/></a>"
   ]
  },
  {
   "attachments": {},
   "cell_type": "markdown",
   "metadata": {
    "colab_type": "text",
    "id": "X7xOs9LdPCi2"
   },
   "source": [
    "# Module 6 - Advanced Visualization\n",
    "\n",
    "1. Category Data Type\n",
    "2. JointPlots\n",
    "3. Histograms\n",
    "4. Staked Histograms\n",
    "5. KDE Plot\n",
    "6. Subplots()\n",
    "7. Violinplots vs Boxplots\n",
    "8. Faced Grid\n",
    "9. Coordinates and Diagonals\n",
    "10. Building Dashboard in Python\n",
    "11. Styling Tips\n",
    "12. Finishing Touches\n",
    "13. Exercise"
   ]
  },
  {
   "attachments": {},
   "cell_type": "markdown",
   "metadata": {
    "colab_type": "text",
    "id": "YvGNZvoMPtp9"
   },
   "source": [
    "## 1. Category Data Type"
   ]
  },
  {
   "cell_type": "code",
   "execution_count": null,
   "metadata": {
    "colab": {},
    "colab_type": "code",
    "id": "A7Q_W8epPZjH"
   },
   "outputs": [],
   "source": [
    "import pandas as pd"
   ]
  },
  {
   "cell_type": "code",
   "execution_count": null,
   "metadata": {
    "colab": {},
    "colab_type": "code",
    "id": "RyDQ6K11O9Pj"
   },
   "outputs": [],
   "source": [
    "movies = pd.read_csv('https://raw.githubusercontent.com/Zurezh/Python_LearnByDoing/master/P4-Movie-Ratings.csv')"
   ]
  },
  {
   "cell_type": "code",
   "execution_count": null,
   "metadata": {
    "colab": {
     "base_uri": "https://localhost:8080/",
     "height": 34
    },
    "colab_type": "code",
    "id": "_0LMTEqLQQy9",
    "outputId": "8f579311-1711-4a4e-c53e-9d330c91af66"
   },
   "outputs": [],
   "source": [
    "len(movies)"
   ]
  },
  {
   "cell_type": "code",
   "execution_count": null,
   "metadata": {
    "colab": {
     "base_uri": "https://localhost:8080/",
     "height": 255
    },
    "colab_type": "code",
    "id": "hMnnj0-yQTcp",
    "outputId": "8503175a-b73a-4737-d4ca-fcb603e36fb3"
   },
   "outputs": [],
   "source": [
    "movies.head()"
   ]
  },
  {
   "cell_type": "code",
   "execution_count": null,
   "metadata": {
    "colab": {
     "base_uri": "https://localhost:8080/",
     "height": 68
    },
    "colab_type": "code",
    "id": "hAu-JM1YQVTU",
    "outputId": "0f1748fd-1d7a-4e59-8ce7-7e9c6bf50c77"
   },
   "outputs": [],
   "source": [
    "movies.columns"
   ]
  },
  {
   "cell_type": "code",
   "execution_count": null,
   "metadata": {
    "colab": {},
    "colab_type": "code",
    "id": "H771Va-zQfwG"
   },
   "outputs": [],
   "source": [
    "# Renaming Columns\n",
    "movies.columns = ['Film', 'Genre', 'CriticRating', 'AudienceRating',\n",
    "       'BudgetMillions', 'Year']"
   ]
  },
  {
   "cell_type": "code",
   "execution_count": null,
   "metadata": {
    "colab": {
     "base_uri": "https://localhost:8080/",
     "height": 221
    },
    "colab_type": "code",
    "id": "esNGnHTPQyPq",
    "outputId": "34490766-7040-49bb-98f9-0ee247c2efc0"
   },
   "outputs": [],
   "source": [
    "movies.head()"
   ]
  },
  {
   "cell_type": "code",
   "execution_count": null,
   "metadata": {
    "colab": {
     "base_uri": "https://localhost:8080/",
     "height": 204
    },
    "colab_type": "code",
    "id": "lwvcG9teQ0U0",
    "outputId": "148f6dfc-dd7e-4e3a-91ae-798deeb74e84"
   },
   "outputs": [],
   "source": [
    "movies.info()"
   ]
  },
  {
   "cell_type": "code",
   "execution_count": null,
   "metadata": {
    "colab": {
     "base_uri": "https://localhost:8080/",
     "height": 297
    },
    "colab_type": "code",
    "id": "eCNXaVzxQ6YD",
    "outputId": "03d9b890-0cbf-4057-c534-585d89970192"
   },
   "outputs": [],
   "source": [
    "movies.describe()\n",
    "# Year is more of category rather than a number\n",
    "# In reality, Mean and Std of Year doesn't make sense"
   ]
  },
  {
   "cell_type": "code",
   "execution_count": null,
   "metadata": {
    "colab": {},
    "colab_type": "code",
    "id": "5XqVX0W4RMwg"
   },
   "outputs": [],
   "source": [
    "# Change the column in category data\n",
    "movies.Film = movies.Film.astype('category')"
   ]
  },
  {
   "cell_type": "code",
   "execution_count": null,
   "metadata": {
    "colab": {
     "base_uri": "https://localhost:8080/",
     "height": 204
    },
    "colab_type": "code",
    "id": "BbPxlycoR02C",
    "outputId": "05d4d26f-04a1-4053-a8aa-1c0d9ca7415c"
   },
   "outputs": [],
   "source": [
    "movies.info()"
   ]
  },
  {
   "cell_type": "code",
   "execution_count": null,
   "metadata": {
    "colab": {},
    "colab_type": "code",
    "id": "A5FPC3IVR2gg"
   },
   "outputs": [],
   "source": [
    "# Change the column in category data\n",
    "movies.Genre = movies.Genre.astype('category')\n",
    "movies.Year = movies.Year.astype('category')"
   ]
  },
  {
   "cell_type": "code",
   "execution_count": null,
   "metadata": {
    "colab": {
     "base_uri": "https://localhost:8080/",
     "height": 204
    },
    "colab_type": "code",
    "id": "FpCoPbigSEKo",
    "outputId": "0a66a418-2bc8-4643-d152-0e6fdc0b7e79"
   },
   "outputs": [],
   "source": [
    "movies.info()"
   ]
  },
  {
   "cell_type": "code",
   "execution_count": null,
   "metadata": {
    "colab": {
     "base_uri": "https://localhost:8080/",
     "height": 68
    },
    "colab_type": "code",
    "id": "taYsNPxASFDX",
    "outputId": "b3a8e114-1f54-42c1-b96f-37515a7076fa"
   },
   "outputs": [],
   "source": [
    "# Quick way to find unique values for categories\n",
    "movies.Genre.cat.categories"
   ]
  },
  {
   "cell_type": "code",
   "execution_count": null,
   "metadata": {
    "colab": {
     "base_uri": "https://localhost:8080/",
     "height": 297
    },
    "colab_type": "code",
    "id": "0JiQAs1RSTaV",
    "outputId": "e087408a-5b38-42c9-d4d1-47e194e93350"
   },
   "outputs": [],
   "source": [
    "movies.describe()\n",
    "# Year is not displayed as we changed to the Category Data"
   ]
  },
  {
   "attachments": {},
   "cell_type": "markdown",
   "metadata": {
    "colab_type": "text",
    "id": "3w66vxPeSluA"
   },
   "source": [
    "## 2. Joint Plots"
   ]
  },
  {
   "cell_type": "code",
   "execution_count": null,
   "metadata": {
    "colab": {},
    "colab_type": "code",
    "id": "wFRKTqJYSZol"
   },
   "outputs": [],
   "source": [
    "from matplotlib import pyplot as plt\n",
    "import seaborn as sns\n",
    "%matplotlib inline\n",
    "import warnings\n",
    "warnings.filterwarnings('ignore')"
   ]
  },
  {
   "attachments": {},
   "cell_type": "markdown",
   "metadata": {
    "colab": {
     "base_uri": "https://localhost:8080/",
     "height": 441
    },
    "colab_type": "code",
    "id": "o05-XET3Stwm",
    "outputId": "554a85e6-f4f3-4cce-9d76-421f9a2b8b25"
   },
   "source": [
    "# JointPlots\n",
    "j = sns.jointplot(data = movies, x = 'CriticRating',y = 'AudienceRating')"
   ]
  },
  {
   "cell_type": "code",
   "execution_count": null,
   "metadata": {
    "colab": {
     "base_uri": "https://localhost:8080/",
     "height": 441
    },
    "colab_type": "code",
    "id": "PN1f7MIiS-ES",
    "outputId": "3c4149a9-5c24-4669-c43c-922f422803fc"
   },
   "outputs": [],
   "source": [
    "# Adding few parameters\n",
    "j = sns.jointplot(data = movies, x = 'CriticRating',y = 'AudienceRating', kind='hex')"
   ]
  },
  {
   "cell_type": "code",
   "execution_count": null,
   "metadata": {
    "colab": {},
    "colab_type": "code",
    "id": "atBeSPFLTtWm"
   },
   "outputs": [],
   "source": [
    "# Chart 1"
   ]
  },
  {
   "attachments": {},
   "cell_type": "markdown",
   "metadata": {
    "colab_type": "text",
    "id": "31fvwjMcUL8U"
   },
   "source": [
    "## 3. Histograms"
   ]
  },
  {
   "cell_type": "code",
   "execution_count": null,
   "metadata": {
    "colab": {
     "base_uri": "https://localhost:8080/",
     "height": 279
    },
    "colab_type": "code",
    "id": "lUpEdrXBUNEy",
    "outputId": "c109b120-60e9-471a-e676-fd05dd1219af"
   },
   "outputs": [],
   "source": [
    "# Using Seaborn\n",
    "m1 = sns.distplot(movies.AudienceRating,bins=15)"
   ]
  },
  {
   "cell_type": "code",
   "execution_count": null,
   "metadata": {
    "colab": {
     "base_uri": "https://localhost:8080/",
     "height": 279
    },
    "colab_type": "code",
    "id": "lg7qylGiUYfA",
    "outputId": "37d54fd1-214b-42a8-cb65-19983f67e183"
   },
   "outputs": [],
   "source": [
    "m2 = sns.distplot(movies.CriticRating,bins=15)"
   ]
  },
  {
   "cell_type": "code",
   "execution_count": null,
   "metadata": {
    "colab": {
     "base_uri": "https://localhost:8080/",
     "height": 265
    },
    "colab_type": "code",
    "id": "_SHxdoygUhXg",
    "outputId": "c68bc2e4-1eac-47b9-b161-72bfdf9779ee"
   },
   "outputs": [],
   "source": [
    "# Using Pyplot\n",
    "sns.set_style('darkgrid') # sns.set_style('white')\n",
    "n1 = plt.hist(movies.AudienceRating,bins=15)"
   ]
  },
  {
   "cell_type": "code",
   "execution_count": null,
   "metadata": {
    "colab": {
     "base_uri": "https://localhost:8080/",
     "height": 265
    },
    "colab_type": "code",
    "id": "59C_HmpKUos4",
    "outputId": "f1a99fcb-ba84-49a4-a85d-94e2e6abed50"
   },
   "outputs": [],
   "source": [
    "n2 = plt.hist(movies.CriticRating,bins=15)"
   ]
  },
  {
   "attachments": {},
   "cell_type": "markdown",
   "metadata": {
    "colab_type": "text",
    "id": "2Z0SSi5MVuNK"
   },
   "source": [
    "## Staked Histograms"
   ]
  },
  {
   "cell_type": "code",
   "execution_count": null,
   "metadata": {
    "colab": {
     "base_uri": "https://localhost:8080/",
     "height": 265
    },
    "colab_type": "code",
    "id": "CoJVpr2HVLy4",
    "outputId": "63edfee4-71e4-4a34-b98d-34e0516b7c9a"
   },
   "outputs": [],
   "source": [
    "plt.hist(movies.BudgetMillions)\n",
    "plt.show()"
   ]
  },
  {
   "cell_type": "code",
   "execution_count": null,
   "metadata": {
    "colab": {
     "base_uri": "https://localhost:8080/",
     "height": 265
    },
    "colab_type": "code",
    "id": "v-RX1a4IV2fa",
    "outputId": "daebcc72-3a8e-4fd6-d47e-ed8bc03c60d7"
   },
   "outputs": [],
   "source": [
    "# Filter the dataset\n",
    "plt.hist(movies[movies.Genre == 'Drama'].BudgetMillions)\n",
    "plt.show()"
   ]
  },
  {
   "cell_type": "code",
   "execution_count": null,
   "metadata": {
    "colab": {
     "base_uri": "https://localhost:8080/",
     "height": 265
    },
    "colab_type": "code",
    "id": "lSw6-iLXWLDL",
    "outputId": "2ae13145-b38e-4847-9e21-6a6affa766df"
   },
   "outputs": [],
   "source": [
    "# Filter the dataset\n",
    "plt.hist(movies[movies.Genre == 'Action'].BudgetMillions, bins=15)\n",
    "plt.hist(movies[movies.Genre == 'Drama'].BudgetMillions, bins = 15)\n",
    "plt.hist(movies[movies.Genre == 'Thriller'].BudgetMillions, bins = 15)\n",
    "plt.show()"
   ]
  },
  {
   "cell_type": "code",
   "execution_count": null,
   "metadata": {
    "colab": {
     "base_uri": "https://localhost:8080/",
     "height": 265
    },
    "colab_type": "code",
    "id": "NXRBurs7WWZA",
    "outputId": "de48ddec-4300-411f-cb69-bee615df28c0"
   },
   "outputs": [],
   "source": [
    "# Stake the histogram\n",
    "plt.hist([movies[movies.Genre == 'Action'].BudgetMillions, \\\n",
    "          movies[movies.Genre == 'Drama'].BudgetMillions, \\\n",
    "          movies[movies.Genre == 'Thriller'].BudgetMillions], \\\n",
    "         bins = 15, stacked = True)\n",
    "plt.show()"
   ]
  },
  {
   "cell_type": "code",
   "execution_count": null,
   "metadata": {
    "colab": {
     "base_uri": "https://localhost:8080/",
     "height": 68
    },
    "colab_type": "code",
    "id": "gHbrFLKCW87G",
    "outputId": "aa333784-5b70-4fff-b1dc-2098ae76d3e0"
   },
   "outputs": [],
   "source": [
    "movies.Genre.cat.categories"
   ]
  },
  {
   "cell_type": "code",
   "execution_count": null,
   "metadata": {
    "colab": {
     "base_uri": "https://localhost:8080/",
     "height": 136
    },
    "colab_type": "code",
    "id": "BsbST9hrX5LW",
    "outputId": "b0bd7c3b-218a-4100-961a-086b257a8146"
   },
   "outputs": [],
   "source": [
    "# Optimized for Genres\n",
    "for gen in movies.Genre.cat.categories:\n",
    "  print(gen)"
   ]
  },
  {
   "cell_type": "code",
   "execution_count": null,
   "metadata": {
    "colab": {
     "base_uri": "https://localhost:8080/",
     "height": 265
    },
    "colab_type": "code",
    "id": "BLHCVp3AYCRG",
    "outputId": "37de3313-fa14-42e8-e2b4-f44d7d85ecc8"
   },
   "outputs": [],
   "source": [
    "# Optimized for Genres\n",
    "\n",
    "list1 = []\n",
    "myLabels = []\n",
    "\n",
    "for gen in movies.Genre.cat.categories:\n",
    "  list1.append(movies[movies.Genre == gen].BudgetMillions)\n",
    "  myLabels.append(gen)\n",
    "\n",
    "h = plt.hist(list1,bins=30,stacked=True,rwidth=1,label=myLabels)\n",
    "plt.legend()\n",
    "plt.show()"
   ]
  },
  {
   "attachments": {},
   "cell_type": "markdown",
   "metadata": {
    "colab_type": "text",
    "id": "mnC_x8kRZrDZ"
   },
   "source": [
    "## 6. KDE Plot"
   ]
  },
  {
   "cell_type": "code",
   "execution_count": null,
   "metadata": {
    "colab": {},
    "colab_type": "code",
    "id": "ovJSW9wMYrGj"
   },
   "outputs": [],
   "source": [
    "# Kernel Density Estimate Plot"
   ]
  },
  {
   "cell_type": "code",
   "execution_count": null,
   "metadata": {
    "colab": {
     "base_uri": "https://localhost:8080/",
     "height": 513
    },
    "colab_type": "code",
    "id": "7xl0W-bKZwg2",
    "outputId": "4c55ac43-c090-4fe3-8d83-e9342e588da8"
   },
   "outputs": [],
   "source": [
    "vis1 = sns.lmplot(data=movies,x='CriticRating',y='AudienceRating',fit_reg=False,hue='Genre',aspect = 1)"
   ]
  },
  {
   "cell_type": "code",
   "execution_count": null,
   "metadata": {
    "colab": {
     "base_uri": "https://localhost:8080/",
     "height": 279
    },
    "colab_type": "code",
    "id": "nXLNiV9QaAy4",
    "outputId": "9e4ff676-2c6a-48b6-9a7c-8c90a1080533"
   },
   "outputs": [],
   "source": [
    "#k1 = sns.kdeplot(movies.CriticRating,movies.AudienceRating,cmap = 'Reds')\n",
    "k1 = sns.kdeplot(movies.CriticRating, movies.AudienceRating, shade=True, \n",
    "    cbar=True, shade_lowest=False, cmap='Reds')\n",
    "\n",
    "#Tip:\n",
    "#,shade_lowest=False, shade = True\n",
    "#k1b = sns.kdeplot(movies.CriticRating,movies.AudienceRating, cmap = 'Reds')"
   ]
  },
  {
   "cell_type": "code",
   "execution_count": null,
   "metadata": {
    "colab": {
     "base_uri": "https://localhost:8080/",
     "height": 279
    },
    "colab_type": "code",
    "id": "XOp1EMAFaXOT",
    "outputId": "c3e273a8-8e11-4bce-ba66-01cd92b13130"
   },
   "outputs": [],
   "source": [
    "k1 = sns.kdeplot(movies.CriticRating,movies.AudienceRating, \\\n",
    "                 shade = True,shade_lowest=False,cmap = 'Reds')\n",
    "\n",
    "#Tip:\n",
    "k1b = sns.kdeplot(movies.CriticRating,movies.AudienceRating, cmap = 'Reds')"
   ]
  },
  {
   "attachments": {},
   "cell_type": "markdown",
   "metadata": {
    "colab_type": "text",
    "id": "IWYrMLy6btVZ"
   },
   "source": [
    "## 7. Working with Subplots"
   ]
  },
  {
   "cell_type": "code",
   "execution_count": null,
   "metadata": {
    "colab": {
     "base_uri": "https://localhost:8080/",
     "height": 279
    },
    "colab_type": "code",
    "id": "yEyfHYBAbOJH",
    "outputId": "cad94a02-a69d-42b0-b659-3f3edfdd4d0f"
   },
   "outputs": [],
   "source": [
    "sns.set_style('dark')\n",
    "k1 = sns.kdeplot(movies.BudgetMillions,movies.AudienceRating)"
   ]
  },
  {
   "cell_type": "code",
   "execution_count": null,
   "metadata": {
    "colab": {
     "base_uri": "https://localhost:8080/",
     "height": 282
    },
    "colab_type": "code",
    "id": "OnPgVHQ5cHrR",
    "outputId": "747664cb-7cbe-4499-9731-f9c87e31ae97"
   },
   "outputs": [],
   "source": [
    "k2 = sns.kdeplot(movies.BudgetMillions,movies.CriticRating)"
   ]
  },
  {
   "cell_type": "code",
   "execution_count": null,
   "metadata": {
    "colab": {
     "base_uri": "https://localhost:8080/",
     "height": 428
    },
    "colab_type": "code",
    "id": "Zq2lneg7cjB8",
    "outputId": "53cb7af4-4594-4d51-c3a2-7565b4d368b8"
   },
   "outputs": [],
   "source": [
    "f, axes = plt.subplots(1,2,figsize=(12,6), sharex = True, sharey=True)\n",
    "k1 = sns.kdeplot(movies.BudgetMillions,movies.AudienceRating,ax=axes[0])\n",
    "k2 = sns.kdeplot(movies.BudgetMillions,movies.CriticRating,ax=axes[1])\n",
    "k1.set(xlim=(-20,160))"
   ]
  },
  {
   "attachments": {},
   "cell_type": "markdown",
   "metadata": {
    "colab_type": "text",
    "id": "ymxWom4qejSN"
   },
   "source": [
    "## 7. ViolinPlots vs BoxPlots"
   ]
  },
  {
   "cell_type": "code",
   "execution_count": null,
   "metadata": {
    "colab": {
     "base_uri": "https://localhost:8080/",
     "height": 280
    },
    "colab_type": "code",
    "id": "YS2UzVJXeugw",
    "outputId": "f604f1a0-6c92-4e68-9e0b-ec44047876ba"
   },
   "outputs": [],
   "source": [
    "# BoxPlot\n",
    "z = sns.boxplot(data=movies,x='Genre',y='CriticRating')"
   ]
  },
  {
   "cell_type": "code",
   "execution_count": null,
   "metadata": {
    "colab": {
     "base_uri": "https://localhost:8080/",
     "height": 279
    },
    "colab_type": "code",
    "id": "AiLLtle8c3Cs",
    "outputId": "44e20584-9923-4319-d432-fe1c32db1b92"
   },
   "outputs": [],
   "source": [
    "# ViolinPlots\n",
    "z = sns.violinplot(data=movies,x='Genre',y='CriticRating')"
   ]
  },
  {
   "cell_type": "code",
   "execution_count": null,
   "metadata": {
    "colab": {
     "base_uri": "https://localhost:8080/",
     "height": 280
    },
    "colab_type": "code",
    "id": "mMcpbXVSe2RX",
    "outputId": "79f7a15d-ae2e-4c58-b50d-feb4b0fae1f0"
   },
   "outputs": [],
   "source": [
    "z = sns.boxplot(data=movies[movies.Genre=='Drama'],x='Year',y='CriticRating')"
   ]
  },
  {
   "cell_type": "code",
   "execution_count": null,
   "metadata": {
    "colab": {
     "base_uri": "https://localhost:8080/",
     "height": 279
    },
    "colab_type": "code",
    "id": "zXUA5z9wf6KY",
    "outputId": "de7da56f-8902-4e37-f817-cf4cdbc957a9"
   },
   "outputs": [],
   "source": [
    "z = sns.violinplot(data=movies[movies.Genre=='Drama'],x='Year',y='CriticRating')"
   ]
  },
  {
   "attachments": {},
   "cell_type": "markdown",
   "metadata": {
    "colab_type": "text",
    "id": "5LMntXfLgiDp"
   },
   "source": [
    "## 8. Facet Grids"
   ]
  },
  {
   "cell_type": "code",
   "execution_count": null,
   "metadata": {
    "colab": {},
    "colab_type": "code",
    "id": "kNm8Yo1mgD8c"
   },
   "outputs": [],
   "source": [
    "#g = sns.FacetGrid(movies,row='Genre',hue='Genre')\n",
    "g = sns.FacetGrid(movies,row='Genre',col='Year',hue='Genre')"
   ]
  },
  {
   "cell_type": "code",
   "execution_count": null,
   "metadata": {
    "colab": {
     "base_uri": "https://localhost:8080/",
     "height": 1000
    },
    "colab_type": "code",
    "id": "I_ofHaTCg_5s",
    "outputId": "172b6170-4229-4638-f95a-eafe7b1334ca"
   },
   "outputs": [],
   "source": [
    "g = sns.FacetGrid(movies,row='Genre',col='Year',hue='Genre')\n",
    "g = g.map(plt.scatter,'CriticRating','AudienceRating')"
   ]
  },
  {
   "cell_type": "code",
   "execution_count": null,
   "metadata": {
    "colab": {
     "base_uri": "https://localhost:8080/",
     "height": 1000
    },
    "colab_type": "code",
    "id": "4Yz7fBOehjQg",
    "outputId": "5e23fbf6-5a27-47ce-993e-9debc634b8ab"
   },
   "outputs": [],
   "source": [
    "# can populate with any type of chart: Example Histogram\n",
    "g = sns.FacetGrid(movies,row='Genre',col='Year',hue='Genre')\n",
    "g = g.map(plt.hist,'BudgetMillions')"
   ]
  },
  {
   "cell_type": "code",
   "execution_count": null,
   "metadata": {
    "colab": {
     "base_uri": "https://localhost:8080/",
     "height": 1000
    },
    "colab_type": "code",
    "id": "Rb4sY01kibQM",
    "outputId": "1a0fb1d6-9c8d-42e3-d0d6-c35531541f89"
   },
   "outputs": [],
   "source": [
    "#back to scatterplots\n",
    "g = sns.FacetGrid(movies,row='Genre',col='Year',hue='Genre')\n",
    "kws = dict(s=50,linewidth=0.5,edgecolor='black')\n",
    "g = g.map(plt.scatter,'CriticRating','AudienceRating',**kws)\n"
   ]
  },
  {
   "attachments": {},
   "cell_type": "markdown",
   "metadata": {
    "colab_type": "text",
    "id": "DMM7i0j_wOEY"
   },
   "source": [
    "## 9. Coordinates and Diagonals"
   ]
  },
  {
   "cell_type": "code",
   "execution_count": null,
   "metadata": {
    "colab": {
     "base_uri": "https://localhost:8080/",
     "height": 1000
    },
    "colab_type": "code",
    "id": "BzZp5Nydi840",
    "outputId": "1eb22dae-4671-42dd-bcf2-5f60697cf9f1"
   },
   "outputs": [],
   "source": [
    "# Controlling Axes and Adding Diagonals\n",
    "g = sns.FacetGrid(movies,row='Genre',col='Year',hue='Genre')\n",
    "kws = dict(s=50,linewidth=0.5,edgecolor='black')\n",
    "g = g.map(plt.scatter,'CriticRating','AudienceRating',**kws)\n",
    "g.set(xlim=(0,100),ylim=(0,100))\n",
    "for ax in g.axes.flat:\n",
    "  ax.plot((0,100),(0,100),c='gray',ls='--')\n",
    "g.add_legend()"
   ]
  },
  {
   "attachments": {},
   "cell_type": "markdown",
   "metadata": {
    "colab_type": "text",
    "id": "ED8S169YyP6n"
   },
   "source": [
    "## 10. Building Dashboard"
   ]
  },
  {
   "cell_type": "code",
   "execution_count": null,
   "metadata": {
    "colab": {
     "base_uri": "https://localhost:8080/",
     "height": 900
    },
    "colab_type": "code",
    "id": "6Bf2upQryS4T",
    "outputId": "8244170c-4b82-4182-ba08-681a71db0b9d"
   },
   "outputs": [],
   "source": [
    "# Seaborn Plots Only\n",
    "sns.set_style('darkgrid')\n",
    "f, axes = plt.subplots(2,2,figsize=(15,15))\n",
    "\n",
    "k1 = sns.kdeplot(movies.BudgetMillions,movies.AudienceRating,ax=axes[0,0])\n",
    "k2 = sns.kdeplot(movies.BudgetMillions,movies.CriticRating,ax=axes[0,1])\n",
    "z = sns.violinplot(data=movies,x='Genre',y='CriticRating',ax=axes[1,0])\n",
    "k4 = sns.kdeplot(movies.CriticRating,movies.AudienceRating, shade = True,shade_lowest=False,cmap = 'Reds', ax=axes[1,1])\n",
    "k4b = sns.kdeplot(movies.CriticRating,movies.AudienceRating, cmap = 'Reds', ax=axes[1,1])\n",
    "\n",
    "k1.set(xlim=(-20,160))\n",
    "k2.set(xlim=(-20,160))\n",
    "plt.show()"
   ]
  },
  {
   "cell_type": "code",
   "execution_count": null,
   "metadata": {
    "colab": {
     "base_uri": "https://localhost:8080/",
     "height": 900
    },
    "colab_type": "code",
    "id": "iLTYLbT-ypA8",
    "outputId": "03064b5b-5857-4828-f337-9f7306122d3c"
   },
   "outputs": [],
   "source": [
    "# Seaborn Plots + MatlabPlot \n",
    "sns.set_style('darkgrid')\n",
    "f, axes = plt.subplots(2,2,figsize=(15,15))\n",
    "\n",
    "k1 = sns.kdeplot(movies.BudgetMillions,movies.AudienceRating,ax=axes[0,0])\n",
    "k2 = sns.kdeplot(movies.BudgetMillions,movies.CriticRating,ax=axes[0,1])\n",
    "z = sns.violinplot(data=movies,x='Year',y='BudgetMillions',ax=axes[1,0])\n",
    "axes[1,1].hist(movies.CriticRating,bins=15)\n",
    "\n",
    "k1.set(xlim=(-20,160))\n",
    "k2.set(xlim=(-20,160))\n",
    "plt.show()"
   ]
  },
  {
   "attachments": {},
   "cell_type": "markdown",
   "metadata": {
    "colab_type": "text",
    "id": "730Xac5S1tgP"
   },
   "source": [
    "## 11. Styling Tips"
   ]
  },
  {
   "cell_type": "code",
   "execution_count": null,
   "metadata": {
    "colab": {
     "base_uri": "https://localhost:8080/",
     "height": 900
    },
    "colab_type": "code",
    "id": "MvPcjrxI0223",
    "outputId": "aff16641-b3a7-48d5-bc16-ae20a10d28de"
   },
   "outputs": [],
   "source": [
    "# Seaborn Plots Only\n",
    "sns.set_style('dark',{'axes.facecolor':'black'}) #white, whitegrid, dark, darkgrid, tick\n",
    "f, axes = plt.subplots(2,2,figsize=(15,15))\n",
    "\n",
    "# Plot 0,0\n",
    "k1 = sns.kdeplot(movies.BudgetMillions,movies.AudienceRating,\n",
    "                 shade=True, shade_lowest=True, cmap='inferno',\n",
    "                 ax=axes[0,0])\n",
    "k1b = sns.kdeplot(movies.BudgetMillions,movies.AudienceRating,\n",
    "                  cmap='cool', ax=axes[0,0])\n",
    "\n",
    "# Plot 0,1\n",
    "k2 = sns.kdeplot(movies.BudgetMillions,movies.CriticRating,\n",
    "                 shade=True, shade_lowest=True, cmap='inferno',\n",
    "                 ax=axes[0,1])\n",
    "k2b = sns.kdeplot(movies.BudgetMillions,movies.CriticRating,\n",
    "                cmap='cool', ax=axes[0,1])\n",
    "\n",
    "# Plot 1,0\n",
    "z = sns.violinplot(data=movies,x='Year',y='BudgetMillions',\n",
    "                   palette='YlOrRd',ax=axes[1,0])\n",
    "\n",
    "# Plot 1,1\n",
    "k4 = sns.kdeplot(movies.CriticRating,movies.AudienceRating, \n",
    "                 shade = True,shade_lowest=False,cmap = 'Blues_r', \n",
    "                 ax=axes[1,1])\n",
    "k4b = sns.kdeplot(movies.CriticRating,movies.AudienceRating, \n",
    "                  cmap = 'gist_gray_r', ax=axes[1,1])\n",
    "\n",
    "k1.set(xlim=(-20,160))\n",
    "k2.set(xlim=(-20,160))\n",
    "plt.show()"
   ]
  },
  {
   "attachments": {},
   "cell_type": "markdown",
   "metadata": {
    "colab_type": "text",
    "id": "lS1wHRfI5YUz"
   },
   "source": [
    "## 12. Finishing Touches"
   ]
  },
  {
   "cell_type": "code",
   "execution_count": null,
   "metadata": {
    "colab": {},
    "colab_type": "code",
    "id": "okXigJdo5Z-C"
   },
   "outputs": [],
   "source": [
    "#Themetic Edits"
   ]
  },
  {
   "cell_type": "code",
   "execution_count": null,
   "metadata": {
    "colab": {
     "base_uri": "https://localhost:8080/",
     "height": 587
    },
    "colab_type": "code",
    "id": "jggRwCms6Hph",
    "outputId": "fa4baab1-e8dd-4d29-a89b-8638ffb4a84d"
   },
   "outputs": [],
   "source": [
    "list1 = []\n",
    "myLabels = []\n",
    "\n",
    "for gen in movies.Genre.cat.categories:\n",
    "  list1.append(movies[movies.Genre == gen].BudgetMillions)\n",
    "  myLabels.append(gen)\n",
    "\n",
    "sns.set_style('whitegrid')\n",
    "\n",
    "# Handy Trick to resize the plots\n",
    "fig, ax = plt.subplots()\n",
    "fig.set_size_inches(11.7,8.27) #Size of A4 paper\n",
    "\n",
    "h = plt.hist(list1,bins=30,stacked=True,rwidth=1,label=myLabels)\n",
    "plt.title('Movie Budget Distribution',fontsize=35,\n",
    "          color='DarkBlue', fontname='DejaVu Sans')\n",
    "\n",
    "plt.ylabel('Number of Movies',fontsize=25, color='Red')\n",
    "plt.xlabel('Budget',fontsize=25, color='Green')\n",
    "\n",
    "plt.yticks(fontsize=20)\n",
    "plt.xticks(fontsize=20)\n",
    "\n",
    "plt.legend(frameon=True,fancybox=True,\n",
    "           shadow=True,framealpha=1,prop={'size':20})\n",
    "plt.show()"
   ]
  },
  {
   "attachments": {},
   "cell_type": "markdown",
   "metadata": {
    "colab_type": "text",
    "id": "aSnVYs5E9XdL"
   },
   "source": [
    "## 13. Exercise"
   ]
  },
  {
   "attachments": {},
   "cell_type": "markdown",
   "metadata": {
    "colab_type": "text",
    "id": "_kr99pPkgyKd"
   },
   "source": [
    "#### Movie % Domestic Gross\n",
    "\n",
    "The previous consultant had created a chart for them which is illustrated on the next slide. However the Python code used to create the diagram has since been lost and cannot be recovered. Your taks is to come up with the code that will re-create the same chart making it look as close as possible to original\n",
    "\n",
    "The new dataset has been supplied\n",
    "\n",
    "Dataset\n",
    "https://raw.githubusercontent.com/Zurezh/Python_LearnByDoing/master/P4-Section6-Homework-Dataset.csv\n",
    "\n",
    "Chart Type: BoxPlot \n",
    "Chart Name: Domestic Gross % by Genre\n",
    "\n"
   ]
  },
  {
   "attachments": {},
   "cell_type": "markdown",
   "metadata": {
    "colab_type": "text",
    "id": "sOhHYKDNh_u8"
   },
   "source": [
    "#### Solution"
   ]
  },
  {
   "cell_type": "code",
   "execution_count": null,
   "metadata": {
    "colab": {},
    "colab_type": "code",
    "id": "lhL3YHcy6XLT"
   },
   "outputs": [],
   "source": [
    "import pandas as pd\n",
    "import matplotlib.pyplot as plt\n",
    "import seaborn as sns\n",
    "import warnings\n",
    "warnings.filterwarnings('ignore')\n",
    "%matplotlib inline"
   ]
  },
  {
   "cell_type": "code",
   "execution_count": null,
   "metadata": {
    "colab": {},
    "colab_type": "code",
    "id": "nNl4qsTniPPl"
   },
   "outputs": [],
   "source": [
    "mov = pd.read_csv('https://raw.githubusercontent.com/Zurezh/Python_LearnByDoing/master/P4-Section6-Homework-Dataset.csv',encoding='latin1')"
   ]
  },
  {
   "cell_type": "code",
   "execution_count": null,
   "metadata": {
    "colab": {
     "base_uri": "https://localhost:8080/",
     "height": 417
    },
    "colab_type": "code",
    "id": "xpJNfQbLiZip",
    "outputId": "443c7ac8-f89f-4790-d844-eb01d85dadc2"
   },
   "outputs": [],
   "source": [
    "mov.head()"
   ]
  },
  {
   "cell_type": "code",
   "execution_count": null,
   "metadata": {
    "colab": {
     "base_uri": "https://localhost:8080/",
     "height": 300
    },
    "colab_type": "code",
    "id": "fVf8Q4zIihxs",
    "outputId": "94b7d76c-feb6-46f5-ea48-5fbe786cc1f8"
   },
   "outputs": [],
   "source": [
    "mov.describe()"
   ]
  },
  {
   "cell_type": "code",
   "execution_count": null,
   "metadata": {
    "colab": {
     "base_uri": "https://localhost:8080/",
     "height": 416
    },
    "colab_type": "code",
    "id": "LwZDfmYcjUtL",
    "outputId": "ae17ccf5-f214-4642-9645-175a79607e91"
   },
   "outputs": [],
   "source": [
    "mov.info()"
   ]
  },
  {
   "cell_type": "code",
   "execution_count": null,
   "metadata": {
    "colab": {
     "base_uri": "https://localhost:8080/",
     "height": 729
    },
    "colab_type": "code",
    "id": "n_vrpAgsjV4m",
    "outputId": "b340b396-57c8-446a-ce53-517396974273"
   },
   "outputs": [],
   "source": [
    "vis1 = sns.factorplot(data=mov,x='Day of Week',kind='count',size=10)"
   ]
  },
  {
   "cell_type": "code",
   "execution_count": null,
   "metadata": {
    "colab": {
     "base_uri": "https://localhost:8080/",
     "height": 208
    },
    "colab_type": "code",
    "id": "FfSe62W7j8__",
    "outputId": "9cd63416-b7e7-4b84-d934-6f6ce1c66c66"
   },
   "outputs": [],
   "source": [
    "mov.Studio.unique()"
   ]
  },
  {
   "cell_type": "code",
   "execution_count": null,
   "metadata": {
    "colab": {
     "base_uri": "https://localhost:8080/",
     "height": 34
    },
    "colab_type": "code",
    "id": "A_iQzj10kPe9",
    "outputId": "ba1b1c51-603e-4c6f-b209-72b449f9418f"
   },
   "outputs": [],
   "source": [
    "len(mov.Studio.unique())"
   ]
  },
  {
   "cell_type": "code",
   "execution_count": null,
   "metadata": {
    "colab": {
     "base_uri": "https://localhost:8080/",
     "height": 69
    },
    "colab_type": "code",
    "id": "K8r6BMPhkVOe",
    "outputId": "89ab50c7-cb3e-4bba-e5a7-5a780586669c"
   },
   "outputs": [],
   "source": [
    "mov.Genre.unique()"
   ]
  },
  {
   "cell_type": "code",
   "execution_count": null,
   "metadata": {
    "colab": {
     "base_uri": "https://localhost:8080/",
     "height": 34
    },
    "colab_type": "code",
    "id": "sbo8tafgkXIF",
    "outputId": "dfaad77f-2a98-4edf-cac4-0e3446318a50"
   },
   "outputs": [],
   "source": [
    "len(mov.Genre.unique())"
   ]
  },
  {
   "cell_type": "code",
   "execution_count": null,
   "metadata": {
    "colab": {},
    "colab_type": "code",
    "id": "s8iJP_wokaN1"
   },
   "outputs": [],
   "source": [
    "genre_filters = ['action','adventure','animation','comedy','drama']\n",
    "mov2 = mov[mov.Genre.isin(genre_filters)]"
   ]
  },
  {
   "cell_type": "code",
   "execution_count": null,
   "metadata": {
    "colab": {
     "base_uri": "https://localhost:8080/",
     "height": 52
    },
    "colab_type": "code",
    "id": "ARlV2a3-k0r9",
    "outputId": "ef55a1b3-6f99-4dcc-b8b0-6b2e0b2f409c"
   },
   "outputs": [],
   "source": [
    "mov2.Genre.unique()"
   ]
  },
  {
   "cell_type": "code",
   "execution_count": null,
   "metadata": {
    "colab": {},
    "colab_type": "code",
    "id": "x2XIhu3Gk27A"
   },
   "outputs": [],
   "source": [
    "studio_filters = ['Buena Vista Studios','Fox','Paramount Pictures','Sony','Universal','WB']\n",
    "mov3 = mov2[mov2.Studio.isin(studio_filters)]"
   ]
  },
  {
   "cell_type": "code",
   "execution_count": null,
   "metadata": {
    "colab": {
     "base_uri": "https://localhost:8080/",
     "height": 34
    },
    "colab_type": "code",
    "id": "KKDz8PQak4SU",
    "outputId": "fdae8cbc-e685-47ef-e5e9-15aaf47f103b"
   },
   "outputs": [],
   "source": [
    "print(mov3.Studio.unique())"
   ]
  },
  {
   "cell_type": "code",
   "execution_count": null,
   "metadata": {
    "colab": {
     "base_uri": "https://localhost:8080/",
     "height": 34
    },
    "colab_type": "code",
    "id": "vm9RafN1mT_i",
    "outputId": "47bfb864-48bd-4ad2-f795-d683fa5b69e8"
   },
   "outputs": [],
   "source": [
    "len(mov3)"
   ]
  },
  {
   "cell_type": "code",
   "execution_count": null,
   "metadata": {
    "colab": {
     "base_uri": "https://localhost:8080/",
     "height": 337
    },
    "colab_type": "code",
    "id": "GherVDx9mWF7",
    "outputId": "4635f715-261a-4fa7-8d63-04ef9b030901"
   },
   "outputs": [],
   "source": [
    "sns.set(style='darkgrid',palette='muted',color_codes=True)\n",
    "\n",
    "ax = sns.boxplot(data=mov3,x='Genre',y='Gross % US',orient = 'v',color='lightgray',showfliers = False)\n",
    "plt.setp(ax.artists,alpha=0.5)\n",
    "\n",
    "sns.stripplot(x='Genre',y='Gross % US',data=mov3,jitter=True,size=6,linewidth=0,hue='Studio')\n",
    "\n",
    "ax.axes.set_title('Domestic Gross % by Genre',fontsize=30)\n",
    "ax.set_xlabel('Genre',fontsize=20)\n",
    "ax.set_ylabel('Gross % US',fontsize=20)\n",
    "\n",
    "ax.legend(bbox_to_anchor=(1.05,1),loc=2)"
   ]
  },
  {
   "attachments": {},
   "cell_type": "markdown",
   "metadata": {},
   "source": [
    "### End of Module 6 - Advanced Visualization"
   ]
  }
 ],
 "metadata": {
  "colab": {
   "include_colab_link": true,
   "name": "Module 6 Advanced Visualization.ipynb",
   "provenance": []
  },
  "kernelspec": {
   "display_name": "Python 3",
   "language": "python",
   "name": "python3"
  },
  "language_info": {
   "codemirror_mode": {
    "name": "ipython",
    "version": 3
   },
   "file_extension": ".py",
   "mimetype": "text/x-python",
   "name": "python",
   "nbconvert_exporter": "python",
   "pygments_lexer": "ipython3",
   "version": "3.9.6"
  }
 },
 "nbformat": 4,
 "nbformat_minor": 1
}
