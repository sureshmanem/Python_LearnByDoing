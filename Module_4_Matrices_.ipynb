{
 "cells": [
  {
   "attachments": {},
   "cell_type": "markdown",
   "metadata": {
    "colab_type": "text",
    "id": "view-in-github"
   },
   "source": [
    "<a href=\"https://colab.research.google.com/github/Zurezh/Python_LearnByDoing/blob/master/Module_4_Matrices_.ipynb\" target=\"_parent\"><img src=\"https://colab.research.google.com/assets/colab-badge.svg\" alt=\"Open In Colab\"/></a>"
   ]
  },
  {
   "attachments": {},
   "cell_type": "markdown",
   "metadata": {
    "colab_type": "text",
    "id": "4p-967ceUA9f"
   },
   "source": [
    "# Module 4 - Matrices\n",
    "\n",
    "1. Matrices\n",
    "2. Building first matrix\n",
    "3. Dictionaries\n",
    "4. Matrix Operations\n",
    "5. Visualization\n",
    "6. First Function and Design\n",
    "7. Insights\n",
    "8. Exercise"
   ]
  },
  {
   "attachments": {},
   "cell_type": "markdown",
   "metadata": {
    "colab_type": "text",
    "id": "Tcz-cbhPY_gd"
   },
   "source": [
    "## 0. Basketball Dataset"
   ]
  },
  {
   "cell_type": "code",
   "execution_count": null,
   "metadata": {
    "colab": {},
    "colab_type": "code",
    "id": "-LkkOf5tT2GF"
   },
   "outputs": [],
   "source": [
    "#Welcome to the world of Basketball Data!\n",
    "# Once you have executed the commands the following objects\n",
    "# will be created:\n",
    "# Matrices:\n",
    "# - Salary\n",
    "# - Games\n",
    "# - MinutesPlayed\n",
    "# - FieldGoals\n",
    "# - FieldGoalAttempts\n",
    "# - Points\n",
    "# Lists:\n",
    "# - Players\n",
    "# - Seasons\n",
    "# Dictionaries:\n",
    "# - Sdict\n",
    "# - Pdict\n",
    "\n",
    "\n",
    "#Copyright: These datasets were prepared using publicly available data.\n",
    "\n",
    "#Comments:\n",
    "#Seasons are labeled based on the first year in the season\n",
    "#E.g. the 2012-2013 season is preseneted as simply 2012\n",
    "\n",
    "#Notes and Corrections to the data:\n",
    "#Kevin Durant: 2006 - College Data Used\n",
    "#Kevin Durant: 2005 - Proxied With 2006 Data\n",
    "#Derrick Rose: 2012 - Did Not Play\n",
    "#Derrick Rose: 2007 - College Data Used\n",
    "#Derrick Rose: 2006 - Proxied With 2007 Data\n",
    "#Derrick Rose: 2005 - Proxied With 2007 Data\n",
    "\n",
    "#Import numpy\n",
    "import numpy as np\n",
    "\n",
    "#Seasons\n",
    "Seasons = [\"2005\",\"2006\",\"2007\",\"2008\",\"2009\",\"2010\",\"2011\",\"2012\",\"2013\",\"2014\"]\n",
    "Sdict = {\"2005\":0,\"2006\":1,\"2007\":2,\"2008\":3,\"2009\":4,\"2010\":5,\"2011\":6,\"2012\":7,\"2013\":8,\"2014\":9}\n",
    "\n",
    "#Players\n",
    "Players = [\"KobeBryant\",\"JoeJohnson\",\"LeBronJames\",\"CarmeloAnthony\",\"DwightHoward\",\"ChrisBosh\",\"ChrisPaul\",\"KevinDurant\",\"DerrickRose\",\"DwayneWade\"]\n",
    "Pdict = {\"KobeBryant\":0,\"JoeJohnson\":1,\"LeBronJames\":2,\"CarmeloAnthony\":3,\"DwightHoward\":4,\"ChrisBosh\":5,\"ChrisPaul\":6,\"KevinDurant\":7,\"DerrickRose\":8,\"DwayneWade\":9}\n",
    "\n",
    "#Salaries\n",
    "KobeBryant_Salary = [15946875,17718750,19490625,21262500,23034375,24806250,25244493,27849149,30453805,23500000]\n",
    "JoeJohnson_Salary = [12000000,12744189,13488377,14232567,14976754,16324500,18038573,19752645,21466718,23180790]\n",
    "LeBronJames_Salary = [4621800,5828090,13041250,14410581,15779912,14500000,16022500,17545000,19067500,20644400]\n",
    "CarmeloAnthony_Salary = [3713640,4694041,13041250,14410581,15779912,17149243,18518574,19450000,22407474,22458000]\n",
    "DwightHoward_Salary = [4493160,4806720,6061274,13758000,15202590,16647180,18091770,19536360,20513178,21436271]\n",
    "ChrisBosh_Salary = [3348000,4235220,12455000,14410581,15779912,14500000,16022500,17545000,19067500,20644400]\n",
    "ChrisPaul_Salary = [3144240,3380160,3615960,4574189,13520500,14940153,16359805,17779458,18668431,20068563]\n",
    "KevinDurant_Salary = [0,0,4171200,4484040,4796880,6053663,15506632,16669630,17832627,18995624]\n",
    "DerrickRose_Salary = [0,0,0,4822800,5184480,5546160,6993708,16402500,17632688,18862875]\n",
    "DwayneWade_Salary = [3031920,3841443,13041250,14410581,15779912,14200000,15691000,17182000,18673000,15000000]\n",
    "#Matrix\n",
    "Salary = np.array([KobeBryant_Salary, JoeJohnson_Salary, LeBronJames_Salary, CarmeloAnthony_Salary, DwightHoward_Salary, ChrisBosh_Salary, ChrisPaul_Salary, KevinDurant_Salary, DerrickRose_Salary, DwayneWade_Salary])\n",
    "\n",
    "#Games \n",
    "KobeBryant_G = [80,77,82,82,73,82,58,78,6,35]\n",
    "JoeJohnson_G = [82,57,82,79,76,72,60,72,79,80]\n",
    "LeBronJames_G = [79,78,75,81,76,79,62,76,77,69]\n",
    "CarmeloAnthony_G = [80,65,77,66,69,77,55,67,77,40]\n",
    "DwightHoward_G = [82,82,82,79,82,78,54,76,71,41]\n",
    "ChrisBosh_G = [70,69,67,77,70,77,57,74,79,44]\n",
    "ChrisPaul_G = [78,64,80,78,45,80,60,70,62,82]\n",
    "KevinDurant_G = [35,35,80,74,82,78,66,81,81,27]\n",
    "DerrickRose_G = [40,40,40,81,78,81,39,0,10,51]\n",
    "DwayneWade_G = [75,51,51,79,77,76,49,69,54,62]\n",
    "#Matrix\n",
    "Games = np.array([KobeBryant_G, JoeJohnson_G, LeBronJames_G, CarmeloAnthony_G, DwightHoward_G, ChrisBosh_G, ChrisPaul_G, KevinDurant_G, DerrickRose_G, DwayneWade_G])\n",
    "\n",
    "#Minutes Played\n",
    "KobeBryant_MP = [3277,3140,3192,2960,2835,2779,2232,3013,177,1207]\n",
    "JoeJohnson_MP = [3340,2359,3343,3124,2886,2554,2127,2642,2575,2791]\n",
    "LeBronJames_MP = [3361,3190,3027,3054,2966,3063,2326,2877,2902,2493]\n",
    "CarmeloAnthony_MP = [2941,2486,2806,2277,2634,2751,1876,2482,2982,1428]\n",
    "DwightHoward_MP = [3021,3023,3088,2821,2843,2935,2070,2722,2396,1223]\n",
    "ChrisBosh_MP = [2751,2658,2425,2928,2526,2795,2007,2454,2531,1556]\n",
    "ChrisPaul_MP = [2808,2353,3006,3002,1712,2880,2181,2335,2171,2857]\n",
    "KevinDurant_MP = [1255,1255,2768,2885,3239,3038,2546,3119,3122,913]\n",
    "DerrickRose_MP = [1168,1168,1168,3000,2871,3026,1375,0,311,1530]\n",
    "DwayneWade_MP = [2892,1931,1954,3048,2792,2823,1625,2391,1775,1971]\n",
    "#Matrix\n",
    "MinutesPlayed = np.array([KobeBryant_MP, JoeJohnson_MP, LeBronJames_MP, CarmeloAnthony_MP, DwightHoward_MP, ChrisBosh_MP, ChrisPaul_MP, KevinDurant_MP, DerrickRose_MP, DwayneWade_MP])\n",
    "\n",
    "#Field Goals\n",
    "KobeBryant_FG = [978,813,775,800,716,740,574,738,31,266]\n",
    "JoeJohnson_FG = [632,536,647,620,635,514,423,445,462,446]\n",
    "LeBronJames_FG = [875,772,794,789,768,758,621,765,767,624]\n",
    "CarmeloAnthony_FG = [756,691,728,535,688,684,441,669,743,358]\n",
    "DwightHoward_FG = [468,526,583,560,510,619,416,470,473,251]\n",
    "ChrisBosh_FG = [549,543,507,615,600,524,393,485,492,343]\n",
    "ChrisPaul_FG = [407,381,630,631,314,430,425,412,406,568]\n",
    "KevinDurant_FG = [306,306,587,661,794,711,643,731,849,238]\n",
    "DerrickRose_FG = [208,208,208,574,672,711,302,0,58,338]\n",
    "DwayneWade_FG = [699,472,439,854,719,692,416,569,415,509]\n",
    "#Matrix\n",
    "FieldGoals  = np.array([KobeBryant_FG, JoeJohnson_FG, LeBronJames_FG, CarmeloAnthony_FG, DwightHoward_FG, ChrisBosh_FG, ChrisPaul_FG, KevinDurant_FG, DerrickRose_FG, DwayneWade_FG])\n",
    "\n",
    "#Field Goal Attempts\n",
    "KobeBryant_FGA = [2173,1757,1690,1712,1569,1639,1336,1595,73,713]\n",
    "JoeJohnson_FGA = [1395,1139,1497,1420,1386,1161,931,1052,1018,1025]\n",
    "LeBronJames_FGA = [1823,1621,1642,1613,1528,1485,1169,1354,1353,1279]\n",
    "CarmeloAnthony_FGA = [1572,1453,1481,1207,1502,1503,1025,1489,1643,806]\n",
    "DwightHoward_FGA = [881,873,974,979,834,1044,726,813,800,423]\n",
    "ChrisBosh_FGA = [1087,1094,1027,1263,1158,1056,807,907,953,745]\n",
    "ChrisPaul_FGA = [947,871,1291,1255,637,928,890,856,870,1170]\n",
    "KevinDurant_FGA = [647,647,1366,1390,1668,1538,1297,1433,1688,467]\n",
    "DerrickRose_FGA = [436,436,436,1208,1373,1597,695,0,164,835]\n",
    "DwayneWade_FGA = [1413,962,937,1739,1511,1384,837,1093,761,1084]\n",
    "#Matrix\n",
    "FieldGoalAttempts = np.array([KobeBryant_FGA, JoeJohnson_FGA, LeBronJames_FGA, CarmeloAnthony_FGA, DwightHoward_FGA, ChrisBosh_FGA, ChrisPaul_FGA, KevinDurant_FGA, DerrickRose_FGA, DwayneWade_FGA])\n",
    "\n",
    "#Points\n",
    "KobeBryant_PTS = [2832,2430,2323,2201,1970,2078,1616,2133,83,782]\n",
    "JoeJohnson_PTS = [1653,1426,1779,1688,1619,1312,1129,1170,1245,1154]\n",
    "LeBronJames_PTS = [2478,2132,2250,2304,2258,2111,1683,2036,2089,1743]\n",
    "CarmeloAnthony_PTS = [2122,1881,1978,1504,1943,1970,1245,1920,2112,966]\n",
    "DwightHoward_PTS = [1292,1443,1695,1624,1503,1784,1113,1296,1297,646]\n",
    "ChrisBosh_PTS = [1572,1561,1496,1746,1678,1438,1025,1232,1281,928]\n",
    "ChrisPaul_PTS = [1258,1104,1684,1781,841,1268,1189,1186,1185,1564]\n",
    "KevinDurant_PTS = [903,903,1624,1871,2472,2161,1850,2280,2593,686]\n",
    "DerrickRose_PTS = [597,597,597,1361,1619,2026,852,0,159,904]\n",
    "DwayneWade_PTS = [2040,1397,1254,2386,2045,1941,1082,1463,1028,1331]\n",
    "#Matrix\n",
    "Points = np.array([KobeBryant_PTS, JoeJohnson_PTS, LeBronJames_PTS, CarmeloAnthony_PTS, DwightHoward_PTS, ChrisBosh_PTS, ChrisPaul_PTS, KevinDurant_PTS, DerrickRose_PTS, DwayneWade_PTS])             \n",
    "                  \n"
   ]
  },
  {
   "attachments": {},
   "cell_type": "markdown",
   "metadata": {
    "colab_type": "text",
    "id": "m6_B8PRBZEZm"
   },
   "source": [
    "## 1. Understanding the data"
   ]
  },
  {
   "cell_type": "code",
   "execution_count": null,
   "metadata": {
    "colab": {
     "base_uri": "https://localhost:8080/",
     "height": 34
    },
    "colab_type": "code",
    "id": "Ls4_bpuOU1Ou",
    "outputId": "7dcbbe66-f078-455d-cb0a-8e9cc024023a"
   },
   "outputs": [],
   "source": [
    "import numpy as np\n",
    "mydata = np.arange(0,20)\n",
    "print(mydata)"
   ]
  },
  {
   "cell_type": "code",
   "execution_count": null,
   "metadata": {
    "colab": {
     "base_uri": "https://localhost:8080/",
     "height": 102
    },
    "colab_type": "code",
    "id": "ZC0Plv54U2i2",
    "outputId": "6032cb4e-8665-446b-c540-e7d50a3ca253"
   },
   "outputs": [],
   "source": [
    "np.reshape(mydata,(5,4)) #Note: default is opposite to R"
   ]
  },
  {
   "cell_type": "code",
   "execution_count": null,
   "metadata": {
    "colab": {
     "base_uri": "https://localhost:8080/",
     "height": 102
    },
    "colab_type": "code",
    "id": "OJNpP5WqXKCG",
    "outputId": "80146669-8e2f-4c10-9286-edbcd2eff055"
   },
   "outputs": [],
   "source": [
    "matr1 = np.reshape(mydata,(5,4),order='C')\n",
    "matr1"
   ]
  },
  {
   "cell_type": "code",
   "execution_count": null,
   "metadata": {
    "colab": {
     "base_uri": "https://localhost:8080/",
     "height": 34
    },
    "colab_type": "code",
    "id": "qCBNF0JuXUt1",
    "outputId": "19c13c89-9afa-4dce-d51e-7f81504f7705"
   },
   "outputs": [],
   "source": [
    "# Get to the number 10\n",
    "matr1[2,2]"
   ]
  },
  {
   "cell_type": "code",
   "execution_count": null,
   "metadata": {
    "colab": {
     "base_uri": "https://localhost:8080/",
     "height": 102
    },
    "colab_type": "code",
    "id": "1PZXTkLjXhNX",
    "outputId": "49753e9f-fc34-417d-f9d5-37067891d325"
   },
   "outputs": [],
   "source": [
    "matr2 = np.reshape(mydata,(5,4),order='F')\n",
    "matr2"
   ]
  },
  {
   "cell_type": "code",
   "execution_count": null,
   "metadata": {
    "colab": {
     "base_uri": "https://localhost:8080/",
     "height": 34
    },
    "colab_type": "code",
    "id": "F4e8AtFaXk2C",
    "outputId": "0850be74-32c5-44e3-c9d5-3ca3d52c26c7"
   },
   "outputs": [],
   "source": [
    "# Get to the number 10\n",
    "matr2[0,2]"
   ]
  },
  {
   "cell_type": "code",
   "execution_count": null,
   "metadata": {
    "colab": {
     "base_uri": "https://localhost:8080/",
     "height": 102
    },
    "colab_type": "code",
    "id": "FdLq5CeeXrM_",
    "outputId": "930e4d14-5354-4514-afe8-6fe7ac4f41be"
   },
   "outputs": [],
   "source": [
    "#OOP Concept:\n",
    "#np.reshape(mydata,(5,4))\n",
    "\n",
    "mydata.reshape((5,4))"
   ]
  },
  {
   "cell_type": "code",
   "execution_count": null,
   "metadata": {
    "colab": {
     "base_uri": "https://localhost:8080/",
     "height": 34
    },
    "colab_type": "code",
    "id": "zwOpT24OX5dR",
    "outputId": "6caf5382-1ab0-4b34-9bf4-f3296b92f89a"
   },
   "outputs": [],
   "source": [
    "type(mydata)"
   ]
  },
  {
   "cell_type": "code",
   "execution_count": null,
   "metadata": {
    "colab": {},
    "colab_type": "code",
    "id": "Y_FCjyNMYA1-"
   },
   "outputs": [],
   "source": [
    "r1 = ['I','am','happy']\n",
    "r2 = ['What','a','day']\n",
    "r3 = [1,2,3]"
   ]
  },
  {
   "cell_type": "code",
   "execution_count": null,
   "metadata": {
    "colab": {
     "base_uri": "https://localhost:8080/",
     "height": 34
    },
    "colab_type": "code",
    "id": "e50Cyl1vYhOU",
    "outputId": "b257a5cc-9d83-4699-904f-6cda467d856e"
   },
   "outputs": [],
   "source": [
    "[r1,r2,r3]"
   ]
  },
  {
   "cell_type": "code",
   "execution_count": null,
   "metadata": {
    "colab": {
     "base_uri": "https://localhost:8080/",
     "height": 68
    },
    "colab_type": "code",
    "id": "jJgmsFBYYiwn",
    "outputId": "feef330e-60af-473a-b465-e46caad8678f"
   },
   "outputs": [],
   "source": [
    "np.array([r1,r2,r3])"
   ]
  },
  {
   "cell_type": "code",
   "execution_count": null,
   "metadata": {
    "colab": {
     "base_uri": "https://localhost:8080/",
     "height": 68
    },
    "colab_type": "code",
    "id": "STm-9XMhYmuU",
    "outputId": "01a7e6ec-9ba5-44a6-b7ef-9547235f6313"
   },
   "outputs": [],
   "source": [
    "print(np.array([r1,r2,r3]))"
   ]
  },
  {
   "attachments": {},
   "cell_type": "markdown",
   "metadata": {
    "colab_type": "text",
    "id": "E6x-XmmLZKzZ"
   },
   "source": [
    "## 3. Dictionaries"
   ]
  },
  {
   "attachments": {},
   "cell_type": "markdown",
   "metadata": {
    "colab_type": "text",
    "id": "giWWz7fYaAD6"
   },
   "source": [
    "### Indexation Practice"
   ]
  },
  {
   "cell_type": "code",
   "execution_count": null,
   "metadata": {
    "colab": {
     "base_uri": "https://localhost:8080/",
     "height": 187
    },
    "colab_type": "code",
    "id": "E72HjUQFZMlt",
    "outputId": "53f5338d-1070-447d-a893-e42c20bd7016"
   },
   "outputs": [],
   "source": [
    "Games"
   ]
  },
  {
   "cell_type": "code",
   "execution_count": null,
   "metadata": {
    "colab": {
     "base_uri": "https://localhost:8080/",
     "height": 34
    },
    "colab_type": "code",
    "id": "8ugSVG5wZeH2",
    "outputId": "3e126fbb-82f0-413f-ead9-b5f553751095"
   },
   "outputs": [],
   "source": [
    "Games[0]"
   ]
  },
  {
   "cell_type": "code",
   "execution_count": null,
   "metadata": {
    "colab": {
     "base_uri": "https://localhost:8080/",
     "height": 34
    },
    "colab_type": "code",
    "id": "iiD2Xha1Zrzl",
    "outputId": "13d03a72-cfc2-4901-fc49-8f9b5c4a131b"
   },
   "outputs": [],
   "source": [
    "Games[5]"
   ]
  },
  {
   "cell_type": "code",
   "execution_count": null,
   "metadata": {
    "colab": {
     "base_uri": "https://localhost:8080/",
     "height": 34
    },
    "colab_type": "code",
    "id": "vxbYKwx4Zt9_",
    "outputId": "148696bc-8b95-401c-adf4-9e612e03d689"
   },
   "outputs": [],
   "source": [
    "Games[2][5]"
   ]
  },
  {
   "cell_type": "code",
   "execution_count": null,
   "metadata": {
    "colab": {
     "base_uri": "https://localhost:8080/",
     "height": 34
    },
    "colab_type": "code",
    "id": "Dyhvb7emZxIZ",
    "outputId": "3b958bb4-8b2b-465b-b6b8-e8a6ec9d8790"
   },
   "outputs": [],
   "source": [
    "Points[6]"
   ]
  },
  {
   "cell_type": "code",
   "execution_count": null,
   "metadata": {
    "colab": {
     "base_uri": "https://localhost:8080/",
     "height": 34
    },
    "colab_type": "code",
    "id": "qkc8AsboZ3AW",
    "outputId": "51289cc7-251b-4dfa-8001-7bf8f4064e81"
   },
   "outputs": [],
   "source": [
    "Points[6][1]"
   ]
  },
  {
   "attachments": {},
   "cell_type": "markdown",
   "metadata": {
    "colab_type": "text",
    "id": "0GLuSeRwaE_J"
   },
   "source": [
    "### Looking at Dictionaries"
   ]
  },
  {
   "cell_type": "code",
   "execution_count": null,
   "metadata": {
    "colab": {},
    "colab_type": "code",
    "id": "ncpwe-1vZ6rU"
   },
   "outputs": [],
   "source": [
    "dict1 = {'key1':'val1','key2':'val2','key3':'val3'}"
   ]
  },
  {
   "cell_type": "code",
   "execution_count": null,
   "metadata": {
    "colab": {
     "base_uri": "https://localhost:8080/",
     "height": 34
    },
    "colab_type": "code",
    "id": "wE_fGVy9aUTN",
    "outputId": "0f46495d-de24-4a72-c5d4-30fe10f95999"
   },
   "outputs": [],
   "source": [
    "dict1['key1']"
   ]
  },
  {
   "cell_type": "code",
   "execution_count": null,
   "metadata": {
    "colab": {},
    "colab_type": "code",
    "id": "fEjyOoLWaZFz"
   },
   "outputs": [],
   "source": [
    "dict2 = {'Germany':'I have been here','France':2,'Spain':True}"
   ]
  },
  {
   "cell_type": "code",
   "execution_count": null,
   "metadata": {
    "colab": {
     "base_uri": "https://localhost:8080/",
     "height": 34
    },
    "colab_type": "code",
    "id": "JDj5kJOUacY4",
    "outputId": "4d72c0fb-01ec-42a1-efa7-f4a6c3683ab7"
   },
   "outputs": [],
   "source": [
    "dict2"
   ]
  },
  {
   "cell_type": "code",
   "execution_count": null,
   "metadata": {
    "colab": {
     "base_uri": "https://localhost:8080/",
     "height": 34
    },
    "colab_type": "code",
    "id": "fcYuPM6Oa1JF",
    "outputId": "49ca2aff-565f-491a-a619-0fb875daa487"
   },
   "outputs": [],
   "source": [
    "dict2['Spain']"
   ]
  },
  {
   "attachments": {},
   "cell_type": "markdown",
   "metadata": {
    "colab_type": "text",
    "id": "J0bibbTBbkcR"
   },
   "source": [
    "## Accessing the Basketball Data using dictionaries"
   ]
  },
  {
   "cell_type": "code",
   "execution_count": null,
   "metadata": {
    "colab": {
     "base_uri": "https://localhost:8080/",
     "height": 187
    },
    "colab_type": "code",
    "id": "kfO39ZJdbed0",
    "outputId": "217c95ee-5bb6-46b2-ae6a-a3621a5b4c52"
   },
   "outputs": [],
   "source": [
    "Games"
   ]
  },
  {
   "cell_type": "code",
   "execution_count": null,
   "metadata": {
    "colab": {
     "base_uri": "https://localhost:8080/",
     "height": 34
    },
    "colab_type": "code",
    "id": "W34gGQ3Sbp-V",
    "outputId": "3f6614b9-4874-4695-a667-543bba7021cb"
   },
   "outputs": [],
   "source": [
    "Pdict['DerrickRose']"
   ]
  },
  {
   "cell_type": "code",
   "execution_count": null,
   "metadata": {
    "colab": {
     "base_uri": "https://localhost:8080/",
     "height": 34
    },
    "colab_type": "code",
    "id": "rfI2SVe4bxVw",
    "outputId": "2c0f6b84-8aa3-4d82-bc2b-7baf883a96e4"
   },
   "outputs": [],
   "source": [
    "Games[8]"
   ]
  },
  {
   "cell_type": "code",
   "execution_count": null,
   "metadata": {
    "colab": {
     "base_uri": "https://localhost:8080/",
     "height": 34
    },
    "colab_type": "code",
    "id": "tUGdTnOncJqP",
    "outputId": "609ea796-4d29-4555-962e-0ef8a73d22df"
   },
   "outputs": [],
   "source": [
    "Games[Pdict['DerrickRose']]"
   ]
  },
  {
   "cell_type": "code",
   "execution_count": null,
   "metadata": {
    "colab": {
     "base_uri": "https://localhost:8080/",
     "height": 34
    },
    "colab_type": "code",
    "id": "YRIZ_uvncVjE",
    "outputId": "0fcbea8d-7dd6-4edb-f1fb-40c4288edce4"
   },
   "outputs": [],
   "source": [
    "Games[Pdict['DerrickRose']][7]"
   ]
  },
  {
   "cell_type": "code",
   "execution_count": null,
   "metadata": {
    "colab": {
     "base_uri": "https://localhost:8080/",
     "height": 34
    },
    "colab_type": "code",
    "id": "ZUhGEnNRcZsp",
    "outputId": "b7b67db1-3172-41e1-fc8d-b841d33b4398"
   },
   "outputs": [],
   "source": [
    "Games[Pdict['DerrickRose']][Sdict['2012']]"
   ]
  },
  {
   "cell_type": "code",
   "execution_count": null,
   "metadata": {
    "colab": {
     "base_uri": "https://localhost:8080/",
     "height": 34
    },
    "colab_type": "code",
    "id": "NTTzhlZNcdg8",
    "outputId": "833be9ef-a74d-4c43-a306-6a78e94364f4"
   },
   "outputs": [],
   "source": [
    "Games[Pdict['JoeJohnson']][Sdict['2014']]"
   ]
  },
  {
   "cell_type": "code",
   "execution_count": null,
   "metadata": {
    "colab": {
     "base_uri": "https://localhost:8080/",
     "height": 34
    },
    "colab_type": "code",
    "id": "LELWVQDjchYm",
    "outputId": "23710050-a6ab-493a-e37b-272268bc1fb2"
   },
   "outputs": [],
   "source": [
    "Games[Pdict['JoeJohnson']]"
   ]
  },
  {
   "attachments": {},
   "cell_type": "markdown",
   "metadata": {
    "colab_type": "text",
    "id": "swPhVUcydCP9"
   },
   "source": [
    "## Matrix Operations"
   ]
  },
  {
   "cell_type": "code",
   "execution_count": null,
   "metadata": {
    "colab": {
     "base_uri": "https://localhost:8080/",
     "height": 51
    },
    "colab_type": "code",
    "id": "_6599RK4cyjM",
    "outputId": "606b9349-10b2-4c99-e15d-769c759e00e6"
   },
   "outputs": [],
   "source": [
    "#Salary[][]\n",
    "print(Pdict['LeBronJames'])\n",
    "print(Sdict['2009'])"
   ]
  },
  {
   "cell_type": "code",
   "execution_count": null,
   "metadata": {
    "colab": {
     "base_uri": "https://localhost:8080/",
     "height": 34
    },
    "colab_type": "code",
    "id": "IRj1VqTMdNPG",
    "outputId": "64fe38bc-2d33-41c2-dc63-2b96abcf29cb"
   },
   "outputs": [],
   "source": [
    "Salary[Pdict['LeBronJames']][Sdict['2009']]"
   ]
  },
  {
   "cell_type": "code",
   "execution_count": null,
   "metadata": {
    "colab": {
     "base_uri": "https://localhost:8080/",
     "height": 187
    },
    "colab_type": "code",
    "id": "o0PgPaGiddJc",
    "outputId": "5b9ddc40-6231-4236-9235-911e9cabf7aa"
   },
   "outputs": [],
   "source": [
    "FieldGoals"
   ]
  },
  {
   "cell_type": "code",
   "execution_count": null,
   "metadata": {
    "colab": {
     "base_uri": "https://localhost:8080/",
     "height": 187
    },
    "colab_type": "code",
    "id": "LnwYESi-dp0N",
    "outputId": "783a792f-5157-4995-99e4-3c4e6c8e1066"
   },
   "outputs": [],
   "source": [
    "Games"
   ]
  },
  {
   "cell_type": "code",
   "execution_count": null,
   "metadata": {
    "colab": {
     "base_uri": "https://localhost:8080/",
     "height": 357
    },
    "colab_type": "code",
    "id": "7Xac2IYjeVeU",
    "outputId": "01f839a7-38c9-4488-b26b-86519229394a"
   },
   "outputs": [],
   "source": [
    "FieldGoals / Games"
   ]
  },
  {
   "cell_type": "code",
   "execution_count": null,
   "metadata": {
    "colab": {
     "base_uri": "https://localhost:8080/",
     "height": 357
    },
    "colab_type": "code",
    "id": "5JY2RB_AedpB",
    "outputId": "ec857037-3d64-4f06-dde3-9ecee430ff18"
   },
   "outputs": [],
   "source": [
    "import warnings\n",
    "warnings.filterwarnings('ignore')\n",
    "FieldGoals / Games"
   ]
  },
  {
   "cell_type": "code",
   "execution_count": null,
   "metadata": {
    "colab": {
     "base_uri": "https://localhost:8080/",
     "height": 187
    },
    "colab_type": "code",
    "id": "jkyZZhOEdrmI",
    "outputId": "6acf2359-11b8-4282-fb82-0b59c5c462b7"
   },
   "outputs": [],
   "source": [
    "import warnings\n",
    "warnings.filterwarnings('ignore')\n",
    "np.matrix.round(FieldGoals / Games)"
   ]
  },
  {
   "cell_type": "code",
   "execution_count": null,
   "metadata": {
    "colab": {},
    "colab_type": "code",
    "id": "bHYAJesFd7f9"
   },
   "outputs": [],
   "source": [
    "import warnings\n",
    "warnings.filterwarnings('ignore')\n",
    "\n",
    "FieldGoalsPerGame = np.matrix.round(FieldGoals / Games)"
   ]
  },
  {
   "cell_type": "code",
   "execution_count": null,
   "metadata": {
    "colab": {
     "base_uri": "https://localhost:8080/",
     "height": 34
    },
    "colab_type": "code",
    "id": "wha717fceq_7",
    "outputId": "eff6e269-00d2-4778-8f6f-ff76575e086d"
   },
   "outputs": [],
   "source": [
    "FieldGoalsPerGame[Pdict['KobeBryant']][Sdict['2009']]"
   ]
  },
  {
   "cell_type": "code",
   "execution_count": null,
   "metadata": {
    "colab": {
     "base_uri": "https://localhost:8080/",
     "height": 187
    },
    "colab_type": "code",
    "id": "yfXtzdnfezH8",
    "outputId": "808ae16f-e9c3-4580-eddc-a604476c0213"
   },
   "outputs": [],
   "source": [
    "np.matrix.round(MinutesPlayed / Games)"
   ]
  },
  {
   "cell_type": "code",
   "execution_count": null,
   "metadata": {
    "colab": {
     "base_uri": "https://localhost:8080/",
     "height": 187
    },
    "colab_type": "code",
    "id": "N-EDnfCye9GM",
    "outputId": "d53a5eb0-4312-4968-8044-5163a605a657"
   },
   "outputs": [],
   "source": [
    "np.matrix.round(FieldGoals / FieldGoalAttempts,2)*100"
   ]
  },
  {
   "attachments": {},
   "cell_type": "markdown",
   "metadata": {
    "colab_type": "text",
    "id": "KnoLoXkIfcJq"
   },
   "source": [
    "## First Visualization"
   ]
  },
  {
   "cell_type": "code",
   "execution_count": null,
   "metadata": {
    "colab": {},
    "colab_type": "code",
    "id": "mJYihvytfWpA"
   },
   "outputs": [],
   "source": [
    "import numpy as np\n",
    "import matplotlib.pyplot as plt\n"
   ]
  },
  {
   "cell_type": "code",
   "execution_count": null,
   "metadata": {
    "colab": {},
    "colab_type": "code",
    "id": "u6l7I3b-g429"
   },
   "outputs": [],
   "source": [
    "%matplotlib inline\n",
    "plt.rcParams['figure.figsize']=8,4"
   ]
  },
  {
   "cell_type": "code",
   "execution_count": null,
   "metadata": {
    "colab": {
     "base_uri": "https://localhost:8080/",
     "height": 276
    },
    "colab_type": "code",
    "id": "F4NkOx5agIHz",
    "outputId": "f3b6253e-5e08-4e5b-86aa-401f2fdfe60c"
   },
   "outputs": [],
   "source": [
    "plt.plot(Salary[0],c='Black',ls='--',marker='s',ms=7)\n",
    "plt.show()"
   ]
  },
  {
   "cell_type": "code",
   "execution_count": null,
   "metadata": {
    "colab": {
     "base_uri": "https://localhost:8080/",
     "height": 292
    },
    "colab_type": "code",
    "id": "uQ5Ki1hLgWIs",
    "outputId": "d14976ff-0793-412e-919f-7901268f3eed"
   },
   "outputs": [],
   "source": [
    "plt.plot(Salary[0],c='Black',ls='--',marker='s',ms=7,label=Players[0])\n",
    "plt.xticks(list(range(0,10)),Seasons,rotation='vertical')\n",
    "plt.show()"
   ]
  },
  {
   "cell_type": "code",
   "execution_count": null,
   "metadata": {
    "colab": {
     "base_uri": "https://localhost:8080/",
     "height": 292
    },
    "colab_type": "code",
    "id": "pGO-CYuRgbQ6",
    "outputId": "79dea25c-ead5-447d-de7e-8f21738dbb51"
   },
   "outputs": [],
   "source": [
    "# More Visualization\n",
    "plt.plot(Salary[0],c='Black',ls='--',marker='s',ms=7,label=Players[0])\n",
    "plt.plot(Salary[1],c='Red',ls='--',marker='o',ms=7,label=Players[1])\n",
    "plt.xticks(list(range(0,10)),Seasons,rotation='vertical')\n",
    "plt.show()\n",
    "\n",
    "# https://matplotlib.org/2.0.2/api/lines_api.html\n",
    "# https://matplotlib.org/3.1.1/api/markers_api.html\n"
   ]
  },
  {
   "cell_type": "code",
   "execution_count": null,
   "metadata": {
    "colab": {
     "base_uri": "https://localhost:8080/",
     "height": 292
    },
    "colab_type": "code",
    "id": "JI_tiZZ-iL5o",
    "outputId": "fdf7d3c4-230f-4103-9df9-07b1d396bd8d"
   },
   "outputs": [],
   "source": [
    "plt.plot(Salary[0],c='Black',ls='--',marker='s',ms=7,label=Players[0])\n",
    "plt.plot(Salary[1],c='Red',ls='--',marker='o',ms=7,label=Players[1])\n",
    "plt.plot(Salary[2],c='Green',ls='--',marker='^',ms=7,label=Players[2])\n",
    "plt.plot(Salary[3],c='Blue',ls='--',marker='D',ms=7,label=Players[3])\n",
    "plt.xticks(list(range(0,10)),Seasons,rotation='vertical')\n",
    "plt.show()"
   ]
  },
  {
   "cell_type": "code",
   "execution_count": null,
   "metadata": {
    "colab": {
     "base_uri": "https://localhost:8080/",
     "height": 292
    },
    "colab_type": "code",
    "id": "zmvdZ4hOiyPm",
    "outputId": "5f81ff1f-2f30-4a17-85fc-41e9fc0b204d"
   },
   "outputs": [],
   "source": [
    "# Adding the legends\n",
    "plt.plot(Salary[0],c='Black',ls='--',marker='s',ms=7,label=Players[0])\n",
    "plt.plot(Salary[1],c='Red',ls='--',marker='o',ms=7,label=Players[1])\n",
    "plt.plot(Salary[2],c='Green',ls='--',marker='^',ms=7,label=Players[2])\n",
    "plt.plot(Salary[3],c='Blue',ls='--',marker='D',ms=7,label=Players[3])\n",
    "plt.plot(Salary[4],c='Magenta',ls='--',marker='s',ms=7,label=Players[4])\n",
    "plt.plot(Salary[5],c='Black',ls='--',marker='o',ms=7,label=Players[5])\n",
    "plt.plot(Salary[6],c='Red',ls='--',marker='^',ms=7,label=Players[6])\n",
    "plt.plot(Salary[7],c='Green',ls='--',marker='D',ms=7,label=Players[7])\n",
    "plt.plot(Salary[8],c='Blue',ls='--',marker='s',ms=7,label=Players[8])\n",
    "plt.plot(Salary[9],c='Magenta',ls='--',marker='o',ms=7,label=Players[9])\n",
    "plt.legend(loc='upper left',bbox_to_anchor=(1,1))\n",
    "plt.xticks(list(range(0,10)),Seasons,rotation='vertical')\n",
    "plt.show()"
   ]
  },
  {
   "cell_type": "code",
   "execution_count": null,
   "metadata": {
    "colab": {
     "base_uri": "https://localhost:8080/",
     "height": 281
    },
    "colab_type": "code",
    "id": "e_Rjdyn0jFh1",
    "outputId": "3942239f-055f-46c3-e228-b2d755041df4"
   },
   "outputs": [],
   "source": [
    "# Adding the legends\n",
    "plt.plot(Games[0],c='Black',ls='--',marker='s',ms=7,label=Players[0])\n",
    "plt.plot(Games[1],c='Red',ls='--',marker='o',ms=7,label=Players[1])\n",
    "plt.plot(Games[2],c='Green',ls='--',marker='^',ms=7,label=Players[2])\n",
    "plt.plot(Games[3],c='Blue',ls='--',marker='D',ms=7,label=Players[3])\n",
    "plt.plot(Games[4],c='Magenta',ls='--',marker='s',ms=7,label=Players[4])\n",
    "plt.plot(Games[5],c='Black',ls='--',marker='o',ms=7,label=Players[5])\n",
    "plt.plot(Games[6],c='Red',ls='--',marker='^',ms=7,label=Players[6])\n",
    "plt.plot(Games[7],c='Green',ls='--',marker='D',ms=7,label=Players[7])\n",
    "plt.plot(Games[8],c='Blue',ls='--',marker='s',ms=7,label=Players[8])\n",
    "plt.plot(Games[9],c='Magenta',ls='--',marker='o',ms=7,label=Players[9])\n",
    "plt.legend(loc='upper left',bbox_to_anchor=(1,1))\n",
    "plt.xticks(list(range(0,10)),Seasons,rotation='vertical')\n",
    "plt.show()"
   ]
  },
  {
   "attachments": {},
   "cell_type": "markdown",
   "metadata": {
    "colab_type": "text",
    "id": "kXzTr2x9kfr0"
   },
   "source": [
    "## Creating Functon"
   ]
  },
  {
   "cell_type": "code",
   "execution_count": null,
   "metadata": {
    "colab": {},
    "colab_type": "code",
    "id": "VlBVhU3IkfD8"
   },
   "outputs": [],
   "source": [
    "# Our own function\n",
    "def myplot(playerlist):\n",
    "  for name in playerlist:\n",
    "    plt.plot(Games[Pdict[name]],c='Black',ls='--',marker='s',ms=7,label=name)\n",
    "  plt.legend(loc='upper left',bbox_to_anchor=(1,1))\n",
    "  plt.xticks(list(range(0,10)),Seasons,rotation='vertical')\n",
    "  plt.show()"
   ]
  },
  {
   "cell_type": "code",
   "execution_count": null,
   "metadata": {
    "colab": {
     "base_uri": "https://localhost:8080/",
     "height": 281
    },
    "colab_type": "code",
    "id": "D7fzDDAkkTFE",
    "outputId": "84f7182c-fc98-46dd-b102-fe91c1d00891"
   },
   "outputs": [],
   "source": [
    "myplot(('KobeBryant','LeBronJames','DerrickRose'))"
   ]
  },
  {
   "cell_type": "code",
   "execution_count": null,
   "metadata": {
    "colab": {},
    "colab_type": "code",
    "id": "rBPvuGXxl0Gx"
   },
   "outputs": [],
   "source": [
    "# Advanced Function Design\n",
    "def myplot(playerlist):\n",
    "  Col = {\"KobeBryant\":\"Black\",\"JoeJohnson\":\"Red\",\"LeBronJames\":\"Green\",\"CarmeloAnthony\":\"Blue\",\"DwightHoward\":\"Magenta\",\"ChrisBosh\":\"Black\",\"ChrisPaul\":\"Red\",\"KevinDurant\":\"Green\",\"DerrickRose\":\"Blue\",\"DwayneWade\":\"Magenta\"}\n",
    "  Mrk = {\"KobeBryant\":\"s\",\"JoeJohnson\":\"o\",\"LeBronJames\":\"^\",\"CarmeloAnthony\":\"D\",\"DwightHoward\":\"s\",\"ChrisBosh\":\"o\",\"ChrisPaul\":\"^\",\"KevinDurant\":\"D\",\"DerrickRose\":\"s\",\"DwayneWade\":\"o\"}\n",
    "  for name in playerlist:\n",
    "    plt.plot(Games[Pdict[name]],c=Col[name],ls='--',marker=Mrk[name],ms=7,label=name)\n",
    "  plt.legend(loc='upper left',bbox_to_anchor=(1,1))\n",
    "  plt.xticks(list(range(0,10)),Seasons,rotation='vertical')\n",
    "  plt.show()"
   ]
  },
  {
   "cell_type": "code",
   "execution_count": null,
   "metadata": {
    "colab": {
     "base_uri": "https://localhost:8080/",
     "height": 281
    },
    "colab_type": "code",
    "id": "UiMZ-RMwmrHZ",
    "outputId": "9ba901b9-0112-41fa-a4c5-0a0a5dd49e7c"
   },
   "outputs": [],
   "source": [
    "myplot(('KobeBryant','LeBronJames','DerrickRose','JoeJohnson'))"
   ]
  },
  {
   "cell_type": "code",
   "execution_count": null,
   "metadata": {
    "colab": {},
    "colab_type": "code",
    "id": "LwfxQ6VynmUV"
   },
   "outputs": [],
   "source": [
    "# Fix up the inputs\n",
    "def myplot(data, playerlist):\n",
    "  Col = {\"KobeBryant\":\"Black\",\"JoeJohnson\":\"Red\",\"LeBronJames\":\"Green\",\"CarmeloAnthony\":\"Blue\",\"DwightHoward\":\"Magenta\",\"ChrisBosh\":\"Black\",\"ChrisPaul\":\"Red\",\"KevinDurant\":\"Green\",\"DerrickRose\":\"Blue\",\"DwayneWade\":\"Magenta\"}\n",
    "  Mrk = {\"KobeBryant\":\"s\",\"JoeJohnson\":\"o\",\"LeBronJames\":\"^\",\"CarmeloAnthony\":\"D\",\"DwightHoward\":\"s\",\"ChrisBosh\":\"o\",\"ChrisPaul\":\"^\",\"KevinDurant\":\"D\",\"DerrickRose\":\"s\",\"DwayneWade\":\"o\"}\n",
    "  for name in playerlist:\n",
    "    plt.plot(data[Pdict[name]],c=Col[name],ls='--',marker=Mrk[name],ms=7,label=name)\n",
    "  plt.legend(loc='upper left',bbox_to_anchor=(1,1))\n",
    "  plt.xticks(list(range(0,10)),Seasons,rotation='vertical')\n",
    "  plt.show()"
   ]
  },
  {
   "cell_type": "code",
   "execution_count": null,
   "metadata": {
    "colab": {
     "base_uri": "https://localhost:8080/",
     "height": 292
    },
    "colab_type": "code",
    "id": "uaYJ83XPock7",
    "outputId": "87907edb-092e-4b3a-ae67-33fd9b2af822"
   },
   "outputs": [],
   "source": [
    "myplot(Salary,['KobeBryant','LeBronJames','DerrickRose'])"
   ]
  },
  {
   "cell_type": "code",
   "execution_count": null,
   "metadata": {
    "colab": {
     "base_uri": "https://localhost:8080/",
     "height": 187
    },
    "colab_type": "code",
    "id": "cz7fQKe2o7oZ",
    "outputId": "6d0140a4-2a73-480f-8d96-79c92a4c841c"
   },
   "outputs": [],
   "source": [
    "Players"
   ]
  },
  {
   "cell_type": "code",
   "execution_count": null,
   "metadata": {
    "colab": {},
    "colab_type": "code",
    "id": "lvwiS8vMopob"
   },
   "outputs": [],
   "source": [
    "def myplot(data, playerlist=Players):\n",
    "  Col = {\"KobeBryant\":\"Black\",\"JoeJohnson\":\"Red\",\"LeBronJames\":\"Green\",\"CarmeloAnthony\":\"Blue\",\"DwightHoward\":\"Magenta\",\"ChrisBosh\":\"Black\",\"ChrisPaul\":\"Red\",\"KevinDurant\":\"Green\",\"DerrickRose\":\"Blue\",\"DwayneWade\":\"Magenta\"}\n",
    "  Mrk = {\"KobeBryant\":\"s\",\"JoeJohnson\":\"o\",\"LeBronJames\":\"^\",\"CarmeloAnthony\":\"D\",\"DwightHoward\":\"s\",\"ChrisBosh\":\"o\",\"ChrisPaul\":\"^\",\"KevinDurant\":\"D\",\"DerrickRose\":\"s\",\"DwayneWade\":\"o\"}\n",
    "  for name in playerlist:\n",
    "    plt.plot(data[Pdict[name]],c=Col[name],ls='--',marker=Mrk[name],ms=7,label=name)\n",
    "  plt.legend(loc='upper left',bbox_to_anchor=(1,1))\n",
    "  plt.xticks(list(range(0,10)),Seasons,rotation='vertical')\n",
    "  plt.show()"
   ]
  },
  {
   "cell_type": "code",
   "execution_count": null,
   "metadata": {
    "colab": {
     "base_uri": "https://localhost:8080/",
     "height": 292
    },
    "colab_type": "code",
    "id": "GKdx6J_wo63l",
    "outputId": "8104bf68-7ddd-47ad-c70c-d42197bc8783"
   },
   "outputs": [],
   "source": [
    "myplot(Salary)"
   ]
  },
  {
   "cell_type": "code",
   "execution_count": null,
   "metadata": {
    "colab": {
     "base_uri": "https://localhost:8080/",
     "height": 292
    },
    "colab_type": "code",
    "id": "g4MogboMo_3D",
    "outputId": "28fdd553-7dd9-4599-ee82-28a52c11f327"
   },
   "outputs": [],
   "source": [
    "myplot(Salary,['KobeBryant','LeBronJames','DerrickRose'])"
   ]
  },
  {
   "attachments": {},
   "cell_type": "markdown",
   "metadata": {
    "colab_type": "text",
    "id": "qrUXe78KpQ9x"
   },
   "source": [
    "## Basketball Insights"
   ]
  },
  {
   "cell_type": "code",
   "execution_count": null,
   "metadata": {
    "colab": {
     "base_uri": "https://localhost:8080/",
     "height": 281
    },
    "colab_type": "code",
    "id": "6j12Ys_spXkD",
    "outputId": "75d69334-2c34-4830-ad4d-d198a46cb1c9"
   },
   "outputs": [],
   "source": [
    "myplot(Games)"
   ]
  },
  {
   "cell_type": "code",
   "execution_count": null,
   "metadata": {
    "colab": {
     "base_uri": "https://localhost:8080/",
     "height": 840
    },
    "colab_type": "code",
    "id": "LkjIGs_lpiVq",
    "outputId": "9732edef-0ff4-41f4-990c-70fcb5596bb5"
   },
   "outputs": [],
   "source": [
    "#Salary\n",
    "myplot(Salary)\n",
    "myplot(Salary / Games)\n",
    "myplot(Salary / FieldGoals)"
   ]
  },
  {
   "cell_type": "code",
   "execution_count": null,
   "metadata": {
    "colab": {
     "base_uri": "https://localhost:8080/",
     "height": 547
    },
    "colab_type": "code",
    "id": "yFMD8-lzpp2H",
    "outputId": "fa3cbe10-1259-4a55-bb98-0290cbdb3479"
   },
   "outputs": [],
   "source": [
    "#In-Game Metrics\n",
    "myplot(MinutesPlayed)\n",
    "myplot(Points)"
   ]
  },
  {
   "cell_type": "code",
   "execution_count": null,
   "metadata": {
    "colab": {
     "base_uri": "https://localhost:8080/",
     "height": 1000
    },
    "colab_type": "code",
    "id": "Ac2ztfWtqTzr",
    "outputId": "d0b9c59b-5214-4259-9da9-bba975154a53"
   },
   "outputs": [],
   "source": [
    "#In-Game Metrics Normalized\n",
    "myplot(FieldGoals/Games)\n",
    "myplot(FieldGoals/FieldGoalAttempts)\n",
    "myplot(FieldGoalAttempts/Games)\n",
    "myplot(Points/Games)"
   ]
  },
  {
   "cell_type": "code",
   "execution_count": null,
   "metadata": {
    "colab": {
     "base_uri": "https://localhost:8080/",
     "height": 545
    },
    "colab_type": "code",
    "id": "pJ2kfUbIqoeK",
    "outputId": "44d6a520-8f84-4cca-ef50-6b76ced446c7"
   },
   "outputs": [],
   "source": [
    "#Interesting Observation\n",
    "myplot(MinutesPlayed/Games)\n",
    "myplot(Games)"
   ]
  },
  {
   "cell_type": "code",
   "execution_count": null,
   "metadata": {
    "colab": {
     "base_uri": "https://localhost:8080/",
     "height": 281
    },
    "colab_type": "code",
    "id": "pTnjPyYnrNWG",
    "outputId": "db758c91-476c-4fd1-9951-0004001b84b6"
   },
   "outputs": [],
   "source": [
    "# Time is valuable\n",
    "myplot(FieldGoals/MinutesPlayed)"
   ]
  },
  {
   "cell_type": "code",
   "execution_count": null,
   "metadata": {
    "colab": {
     "base_uri": "https://localhost:8080/",
     "height": 281
    },
    "colab_type": "code",
    "id": "T_dHI9fIsFBQ",
    "outputId": "5973990a-b789-4930-dab2-4343db85aca9"
   },
   "outputs": [],
   "source": [
    "#Player Style\n",
    "myplot(Points/FieldGoals)"
   ]
  },
  {
   "cell_type": "code",
   "execution_count": null,
   "metadata": {
    "colab": {
     "base_uri": "https://localhost:8080/",
     "height": 281
    },
    "colab_type": "code",
    "id": "GZzGu94RsI07",
    "outputId": "152e2dd1-cfd3-4e07-c688-fffe3e5f0ff7"
   },
   "outputs": [],
   "source": [
    "#Player Style\n",
    "myplot(Points/FieldGoals)"
   ]
  },
  {
   "attachments": {},
   "cell_type": "markdown",
   "metadata": {
    "colab_type": "text",
    "id": "3jSfgcwMun4A"
   },
   "source": [
    "## Exercise\n"
   ]
  },
  {
   "attachments": {},
   "cell_type": "markdown",
   "metadata": {
    "colab_type": "text",
    "id": "OaKVE3iLvVnB"
   },
   "source": [
    "\n",
    "You have been supplied data for two more additional in-game statistics:\n",
    "- Free Throws\n",
    "- Free Throw Attempts\n",
    "\n",
    "You need to create three plots that portray the following insights:\n",
    "- Free Throw Attempts per game\n",
    "- Accuracy of Free Throws\n",
    "- Player playing style (2 vs 3 points preference) exluding Free Throws\n",
    "\n",
    "* Each Free Throw is worth 1 point\n",
    "\n",
    "The data has been supplied in the form of vecors. You will have to create the two matrices before you proceed with the analysis"
   ]
  },
  {
   "attachments": {},
   "cell_type": "markdown",
   "metadata": {
    "colab_type": "text",
    "id": "L06WM0NeaqMv"
   },
   "source": [
    "Copyright: These datasets were prepared using publicly available data. However, theses scripts are subject to Copyright Laws. If you wish to use these R scripts outside of the R Programming Course by Kirill Eremenko, you may do so by referencing www.superdatascience.com in your work.\n",
    "\n",
    "Comments: Seasons are labeled based on the first year in the season E.g. the 2012-2013 season is preseneted as simply 2012\n",
    "\n",
    "Notes and Corrections to the data:\n",
    "- Kevin Durant: 2006 - College Data Used\n",
    "- Kevin Durant: 2005 - Proxied With 2006 Data\n",
    "- Derrick Rose: 2012 - Did Not Play\n",
    "- Derrick Rose: 2007 - College Data Used\n",
    "- Derrick Rose: 2006 - Proxied With 2007 Data\n",
    "- Derrick Rose: 2005 - Proxied With 2007 Data\n"
   ]
  },
  {
   "attachments": {},
   "cell_type": "markdown",
   "metadata": {
    "colab_type": "text",
    "id": "-FX6Khg0bIm1"
   },
   "source": [
    "Import the packages needed"
   ]
  },
  {
   "cell_type": "code",
   "execution_count": null,
   "metadata": {
    "colab": {},
    "colab_type": "code",
    "id": "3e0h3FsebCDQ"
   },
   "outputs": [],
   "source": [
    "import numpy as np\n",
    "import matplotlib.pyplot as plt"
   ]
  },
  {
   "attachments": {},
   "cell_type": "markdown",
   "metadata": {
    "colab_type": "text",
    "id": "vj9yeAyLbK6F"
   },
   "source": [
    "Import the data set"
   ]
  },
  {
   "cell_type": "code",
   "execution_count": null,
   "metadata": {
    "colab": {},
    "colab_type": "code",
    "id": "U_KyJjs-vRjy"
   },
   "outputs": [],
   "source": [
    "#Seasons\n",
    "Seasons = [\"2005\",\"2006\",\"2007\",\"2008\",\"2009\",\"2010\",\"2011\",\"2012\",\"2013\",\"2014\"]\n",
    "\n",
    "#Players\n",
    "Players = [\"KobeBryant\",\"JoeJohnson\",\"LeBronJames\",\"CarmeloAnthony\",\"DwightHoward\",\"ChrisBosh\",\"ChrisPaul\",\"KevinDurant\",\"DerrickRose\",\"DwayneWade\"]\n",
    "\n",
    "#Free Throws\n",
    "KobeBryant_FT = [696,667,623,483,439,483,381,525,18,196]\n",
    "JoeJohnson_FT = [261,235,316,299,220,195,158,132,159,141]\n",
    "LeBronJames_FT = [601,489,549,594,593,503,387,403,439,375]\n",
    "CarmeloAnthony_FT = [573,459,464,371,508,507,295,425,459,189]\n",
    "DwightHoward_FT = [356,390,529,504,483,546,281,355,349,143]\n",
    "ChrisBosh_FT = [474,463,472,504,470,384,229,241,223,179]\n",
    "ChrisPaul_FT = [394,292,332,455,161,337,260,286,295,289]\n",
    "KevinDurant_FT = [209,209,391,452,756,594,431,679,703,146]\n",
    "DerrickRose_FT = [146,146,146,197,259,476,194,0,27,152]\n",
    "DwayneWade_FT = [629,432,354,590,534,494,235,308,189,284]\n",
    "\n",
    "#Matrix\n",
    "#\n",
    "# <put your code here>\n",
    "#\n",
    "\n",
    "#Free Throw Attempts\n",
    "KobeBryant_FTA = [819,768,742,564,541,583,451,626,21,241]\n",
    "JoeJohnson_FTA = [330,314,379,362,269,243,186,161,195,176]\n",
    "LeBronJames_FTA = [814,701,771,762,773,663,502,535,585,528]\n",
    "CarmeloAnthony_FTA = [709,568,590,468,612,605,367,512,541,237]\n",
    "DwightHoward_FTA = [598,666,897,849,816,916,572,721,638,271]\n",
    "ChrisBosh_FTA = [581,590,559,617,590,471,279,302,272,232]\n",
    "ChrisPaul_FTA = [465,357,390,524,190,384,302,323,345,321]\n",
    "KevinDurant_FTA = [256,256,448,524,840,675,501,750,805,171]\n",
    "DerrickRose_FTA = [205,205,205,250,338,555,239,0,32,187]\n",
    "DwayneWade_FTA = [803,535,467,771,702,652,297,425,258,370]\n",
    "\n",
    "#Matrix\n",
    "#\n",
    "# <put your code here>\n",
    "#"
   ]
  },
  {
   "cell_type": "code",
   "execution_count": null,
   "metadata": {
    "colab": {},
    "colab_type": "code",
    "id": "JCIYDNerbOFQ"
   },
   "outputs": [],
   "source": [
    "# Create the dicts representing seasons and players\n",
    "# Seasons\n",
    "\n",
    "Sdict = {'2005':0,'2006':1,'2007':2,'2008':3,'2009':4,'2010':5,'2011':6,'2012':7,'2013':8,'2014':9}\n",
    "\n",
    "# Players\n",
    "Pdict = {\"KobeBryant\":0,\"JoeJohnson\":1,\"LeBronJames\":2,\"CarmeloAnthony\":3,\"DwightHoward\":4,\"ChrisBosh\":5,\"ChrisPaul\":6,\"KevinDurant\":7,\"DerrickRose\":8,\"DwayneWade\":9}"
   ]
  },
  {
   "cell_type": "code",
   "execution_count": null,
   "metadata": {
    "colab": {},
    "colab_type": "code",
    "id": "aHvRawdvcHeC"
   },
   "outputs": [],
   "source": [
    "#Matrix for Free Throws\n",
    "\n",
    "# Bind the given vectors to form the matrix\n",
    "FreeThrows = np.array([KobeBryant_FT,JoeJohnson_FT,LeBronJames_FT,CarmeloAnthony_FT,DwightHoward_FT,ChrisBosh_FT,ChrisPaul_FT,KevinDurant_FT,DerrickRose_FT,DwayneWade_FT])\n",
    "\n",
    "# Remove vectors - we don't need them anymore\n",
    "del (KobeBryant_FT,JoeJohnson_FT,LeBronJames_FT,CarmeloAnthony_FT,DwightHoward_FT,ChrisBosh_FT,ChrisPaul_FT,KevinDurant_FT,DerrickRose_FT,DwayneWade_FT)\n",
    "\n",
    "# Matrix for Free Throw Attepmts\n",
    "FreeThrowAttempts = np.array([KobeBryant_FTA,JoeJohnson_FTA,LeBronJames_FTA,CarmeloAnthony_FTA,DwightHoward_FTA,ChrisBosh_FTA,ChrisPaul_FTA,KevinDurant_FTA,DerrickRose_FTA,DwayneWade_FTA])\n",
    "\n",
    "# Remove vectors - we don't need them anymore\n",
    "del (KobeBryant_FTA,JoeJohnson_FTA,LeBronJames_FTA,CarmeloAnthony_FTA,DwightHoward_FTA,ChrisBosh_FTA,ChrisPaul_FTA,KevinDurant_FTA,DerrickRose_FTA,DwayneWade_FTA)"
   ]
  },
  {
   "cell_type": "code",
   "execution_count": null,
   "metadata": {
    "colab": {
     "base_uri": "https://localhost:8080/",
     "height": 187
    },
    "colab_type": "code",
    "id": "HUB5wXaVdCQp",
    "outputId": "8d746311-eb92-45ae-c111-c6b327f4c854"
   },
   "outputs": [],
   "source": [
    "# Check the matrices\n",
    "FreeThrows"
   ]
  },
  {
   "cell_type": "code",
   "execution_count": null,
   "metadata": {
    "colab": {},
    "colab_type": "code",
    "id": "f-YF4-TfcZby"
   },
   "outputs": [],
   "source": [
    "# Create the plotting function\n",
    "def myplot(data, playerlist=Players):\n",
    "  \n",
    "  Col = {\"KobeBryant\":\"Black\",\"JoeJohnson\":\"Red\",\"LeBronJames\":\"Green\",\"CarmeloAnthony\":\"Blue\",\"DwightHoward\":\"Magenta\",\"ChrisBosh\":\"Black\",\"ChrisPaul\":\"Red\",\"KevinDurant\":\"Green\",\"DerrickRose\":\"Blue\",\"DwayneWade\":\"Magenta\"}\n",
    "  Mrk = {\"KobeBryant\":\"s\",\"JoeJohnson\":\"o\",\"LeBronJames\":\"^\",\"CarmeloAnthony\":\"D\",\"DwightHoward\":\"s\",\"ChrisBosh\":\"o\",\"ChrisPaul\":\"^\",\"KevinDurant\":\"D\",\"DerrickRose\":\"s\",\"DwayneWade\":\"o\"}\n",
    "  \n",
    "  for name in playerlist:\n",
    "    plt.plot(data[Pdict[name]],c=Col[name],ls='--',marker=Mrk[name],ms=7,label=name)\n",
    "  plt.legend(loc='upper left',bbox_to_anchor=(1,1))\n",
    "  plt.xticks(list(range(0,10)),Seasons,rotation='vertical')\n",
    "  plt.show()"
   ]
  },
  {
   "cell_type": "code",
   "execution_count": null,
   "metadata": {
    "colab": {
     "base_uri": "https://localhost:8080/",
     "height": 281
    },
    "colab_type": "code",
    "id": "-ruTbjQ3ceyT",
    "outputId": "257dbafa-0a5e-4f11-cb56-23d33914419c"
   },
   "outputs": [],
   "source": [
    "# Visualize the new matrices\n",
    "myplot(FreeThrows)"
   ]
  },
  {
   "cell_type": "code",
   "execution_count": null,
   "metadata": {
    "colab": {
     "base_uri": "https://localhost:8080/",
     "height": 281
    },
    "colab_type": "code",
    "id": "wv4ooU-DeThu",
    "outputId": "82cfdb64-8809-4878-88c8-96135b869868"
   },
   "outputs": [],
   "source": [
    "#Visualize the new matrices\n",
    "myplot(FreeThrowAttempts)"
   ]
  },
  {
   "attachments": {},
   "cell_type": "markdown",
   "metadata": {
    "colab_type": "text",
    "id": "rdpb9AXEedRU"
   },
   "source": [
    "#### Part 1"
   ]
  },
  {
   "cell_type": "code",
   "execution_count": null,
   "metadata": {
    "colab": {},
    "colab_type": "code",
    "id": "TCY0G3XeeYTp"
   },
   "outputs": [],
   "source": [
    "#Free Throw Attempts Per Game\n",
    "\n",
    "#Games \n",
    "KobeBryant_G = [80,77,82,82,73,82,58,78,6,35]\n",
    "JoeJohnson_G = [82,57,82,79,76,72,60,72,79,80]\n",
    "LeBronJames_G = [79,78,75,81,76,79,62,76,77,69]\n",
    "CarmeloAnthony_G = [80,65,77,66,69,77,55,67,77,40]\n",
    "DwightHoward_G = [82,82,82,79,82,78,54,76,71,41]\n",
    "ChrisBosh_G = [70,69,67,77,70,77,57,74,79,44]\n",
    "ChrisPaul_G = [78,64,80,78,45,80,60,70,62,82]\n",
    "KevinDurant_G = [35,35,80,74,82,78,66,81,81,27]\n",
    "DerrickRose_G = [40,40,40,81,78,81,39,0,10,51]\n",
    "DwayneWade_G = [75,51,51,79,77,76,49,69,54,62]\n",
    "#Matrix\n",
    "Games = np.array([KobeBryant_G, JoeJohnson_G, LeBronJames_G, CarmeloAnthony_G, DwightHoward_G, ChrisBosh_G, ChrisPaul_G, KevinDurant_G, DerrickRose_G, DwayneWade_G])\n"
   ]
  },
  {
   "cell_type": "code",
   "execution_count": null,
   "metadata": {
    "colab": {
     "base_uri": "https://localhost:8080/",
     "height": 335
    },
    "colab_type": "code",
    "id": "tQax-b8aeuJj",
    "outputId": "f6028223-7a06-49ef-ad94-9f239492bec8"
   },
   "outputs": [],
   "source": [
    "myplot(FreeThrowAttempts/Games)"
   ]
  },
  {
   "attachments": {},
   "cell_type": "markdown",
   "metadata": {
    "colab_type": "text",
    "id": "lYHlwjrTfDUA"
   },
   "source": [
    "Notice how Chris Paul gets few attempts per game\n",
    "\n",
    "#### Part 2"
   ]
  },
  {
   "cell_type": "code",
   "execution_count": null,
   "metadata": {
    "colab": {
     "base_uri": "https://localhost:8080/",
     "height": 335
    },
    "colab_type": "code",
    "id": "KMc8n9K5e0eT",
    "outputId": "2d321dad-0000-4e14-ba67-9532bd453187"
   },
   "outputs": [],
   "source": [
    "# Free throw accuracy\n",
    "myplot(FreeThrows/FreeThrowAttempts)"
   ]
  },
  {
   "attachments": {},
   "cell_type": "markdown",
   "metadata": {
    "colab_type": "text",
    "id": "ImDWFMtTfOn9"
   },
   "source": [
    "And yet Chris Paul's accuracy is one of highest Changes are his team would get more points if he had more FTA's\n",
    "\n",
    "Also notice that Dwight Howard's FT Accuracy is extremely poor compared to other players. If you recall, Dwight Howard's Field Goal Accuracy was exceptional"
   ]
  },
  {
   "cell_type": "code",
   "execution_count": null,
   "metadata": {
    "colab": {
     "base_uri": "https://localhost:8080/",
     "height": 318
    },
    "colab_type": "code",
    "id": "o94HrOpFfM2V",
    "outputId": "07205eaa-1f9f-46b4-f331-d7568b171b53"
   },
   "outputs": [],
   "source": [
    "#Field Goals\n",
    "KobeBryant_FG = [978,813,775,800,716,740,574,738,31,266]\n",
    "JoeJohnson_FG = [632,536,647,620,635,514,423,445,462,446]\n",
    "LeBronJames_FG = [875,772,794,789,768,758,621,765,767,624]\n",
    "CarmeloAnthony_FG = [756,691,728,535,688,684,441,669,743,358]\n",
    "DwightHoward_FG = [468,526,583,560,510,619,416,470,473,251]\n",
    "ChrisBosh_FG = [549,543,507,615,600,524,393,485,492,343]\n",
    "ChrisPaul_FG = [407,381,630,631,314,430,425,412,406,568]\n",
    "KevinDurant_FG = [306,306,587,661,794,711,643,731,849,238]\n",
    "DerrickRose_FG = [208,208,208,574,672,711,302,0,58,338]\n",
    "DwayneWade_FG = [699,472,439,854,719,692,416,569,415,509]\n",
    "#Matrix\n",
    "FieldGoals  = np.array([KobeBryant_FG, JoeJohnson_FG, LeBronJames_FG, CarmeloAnthony_FG, DwightHoward_FG, ChrisBosh_FG, ChrisPaul_FG, KevinDurant_FG, DerrickRose_FG, DwayneWade_FG])\n",
    "\n",
    "#Field Goal Attempts\n",
    "KobeBryant_FGA = [2173,1757,1690,1712,1569,1639,1336,1595,73,713]\n",
    "JoeJohnson_FGA = [1395,1139,1497,1420,1386,1161,931,1052,1018,1025]\n",
    "LeBronJames_FGA = [1823,1621,1642,1613,1528,1485,1169,1354,1353,1279]\n",
    "CarmeloAnthony_FGA = [1572,1453,1481,1207,1502,1503,1025,1489,1643,806]\n",
    "DwightHoward_FGA = [881,873,974,979,834,1044,726,813,800,423]\n",
    "ChrisBosh_FGA = [1087,1094,1027,1263,1158,1056,807,907,953,745]\n",
    "ChrisPaul_FGA = [947,871,1291,1255,637,928,890,856,870,1170]\n",
    "KevinDurant_FGA = [647,647,1366,1390,1668,1538,1297,1433,1688,467]\n",
    "DerrickRose_FGA = [436,436,436,1208,1373,1597,695,0,164,835]\n",
    "DwayneWade_FGA = [1413,962,937,1739,1511,1384,837,1093,761,1084]\n",
    "#Matrix\n",
    "FieldGoalAttempts = np.array([KobeBryant_FGA, JoeJohnson_FGA, LeBronJames_FGA, CarmeloAnthony_FGA, DwightHoward_FGA, ChrisBosh_FGA, ChrisPaul_FGA, KevinDurant_FGA, DerrickRose_FGA, DwayneWade_FGA])\n",
    "\n",
    "myplot(FieldGoals/FieldGoalAttempts)"
   ]
  },
  {
   "attachments": {},
   "cell_type": "markdown",
   "metadata": {
    "colab_type": "text",
    "id": "eoBARwrygNn0"
   },
   "source": [
    "How could this be? Why is there such drastic difference?\n",
    "\n",
    "#### Part 3"
   ]
  },
  {
   "cell_type": "code",
   "execution_count": null,
   "metadata": {
    "colab": {},
    "colab_type": "code",
    "id": "uAMgSZeIf-o6"
   },
   "outputs": [],
   "source": [
    "#Points\n",
    "KobeBryant_PTS = [2832,2430,2323,2201,1970,2078,1616,2133,83,782]\n",
    "JoeJohnson_PTS = [1653,1426,1779,1688,1619,1312,1129,1170,1245,1154]\n",
    "LeBronJames_PTS = [2478,2132,2250,2304,2258,2111,1683,2036,2089,1743]\n",
    "CarmeloAnthony_PTS = [2122,1881,1978,1504,1943,1970,1245,1920,2112,966]\n",
    "DwightHoward_PTS = [1292,1443,1695,1624,1503,1784,1113,1296,1297,646]\n",
    "ChrisBosh_PTS = [1572,1561,1496,1746,1678,1438,1025,1232,1281,928]\n",
    "ChrisPaul_PTS = [1258,1104,1684,1781,841,1268,1189,1186,1185,1564]\n",
    "KevinDurant_PTS = [903,903,1624,1871,2472,2161,1850,2280,2593,686]\n",
    "DerrickRose_PTS = [597,597,597,1361,1619,2026,852,0,159,904]\n",
    "DwayneWade_PTS = [2040,1397,1254,2386,2045,1941,1082,1463,1028,1331]\n",
    "#Matrix\n",
    "Points = np.array([KobeBryant_PTS, JoeJohnson_PTS, LeBronJames_PTS, CarmeloAnthony_PTS, DwightHoward_PTS, ChrisBosh_PTS, ChrisPaul_PTS, KevinDurant_PTS, DerrickRose_PTS, DwayneWade_PTS])             \n",
    "             \n",
    "        "
   ]
  },
  {
   "cell_type": "code",
   "execution_count": null,
   "metadata": {
    "colab": {
     "base_uri": "https://localhost:8080/",
     "height": 335
    },
    "colab_type": "code",
    "id": "slEKAG_0gjOp",
    "outputId": "c627134f-a737-4e3b-dcfe-eeda26dc6f23"
   },
   "outputs": [],
   "source": [
    "# Player Style Patterns Excluding Free Throws\n",
    "myplot((Points-FreeThrows)/FieldGoals)"
   ]
  },
  {
   "attachments": {},
   "cell_type": "markdown",
   "metadata": {
    "colab_type": "text",
    "id": "Vr9CI_x_gvgN"
   },
   "source": [
    "Because we have excluded free throws this plot now shows us the true representation of player style change. We can verify that this is the case because"
   ]
  },
  {
   "attachments": {},
   "cell_type": "markdown",
   "metadata": {},
   "source": [
    "### End of Module 4 - Matrices"
   ]
  }
 ],
 "metadata": {
  "colab": {
   "include_colab_link": true,
   "name": "Module 4 Matrices .ipynb",
   "provenance": []
  },
  "kernelspec": {
   "display_name": "Python 3",
   "language": "python",
   "name": "python3"
  },
  "language_info": {
   "codemirror_mode": {
    "name": "ipython",
    "version": 3
   },
   "file_extension": ".py",
   "mimetype": "text/x-python",
   "name": "python",
   "nbconvert_exporter": "python",
   "pygments_lexer": "ipython3",
   "version": "3.9.6"
  }
 },
 "nbformat": 4,
 "nbformat_minor": 1
}
